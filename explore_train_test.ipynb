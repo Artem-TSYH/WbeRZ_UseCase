{
 "cells": [
  {
   "cell_type": "markdown",
   "id": "b6283a0e-c333-45a5-b7ad-404142e25c5e",
   "metadata": {},
   "source": [
    "Dieses Teil des Prozess mach die Data Analysts oder Data Scientist hauptsächlich.\n",
    "Dieses NoteBook is basiert auf die Infos und die Anleitungen aus dem Webseite:\n",
    "\n",
    "https://www.geeksforgeeks.org/wine-quality-prediction-machine-learning/\n",
    "\n",
    "\n",
    "## TOC:\n",
    "* [Install and load packages](#install-and-load-packages)\n",
    "* [Data Explorations & Feature Engineering](#data-explorations-feature-engineering)\n",
    "* [Model Training and hyperparameter tuning](#model-training-and-hyperparameter-tuning)"
   ]
  },
  {
   "cell_type": "markdown",
   "id": "f76c6044",
   "metadata": {},
   "source": [
    "# Install and Load Packages"
   ]
  },
  {
   "cell_type": "code",
   "execution_count": 2,
   "id": "c3ac5d30",
   "metadata": {},
   "outputs": [
    {
     "name": "stdout",
     "output_type": "stream",
     "text": [
      "Requirement already satisfied: ipykernel in ./wsl_py3.10/lib/python3.10/site-packages (from -r requirements.txt (line 1)) (6.29.5)\n",
      "Requirement already satisfied: numpy in ./wsl_py3.10/lib/python3.10/site-packages (from -r requirements.txt (line 2)) (2.0.2)\n",
      "Requirement already satisfied: pandas in ./wsl_py3.10/lib/python3.10/site-packages (from -r requirements.txt (line 3)) (2.2.3)\n",
      "Requirement already satisfied: matplotlib in ./wsl_py3.10/lib/python3.10/site-packages (from -r requirements.txt (line 4)) (3.10.0)\n",
      "Requirement already satisfied: seaborn in ./wsl_py3.10/lib/python3.10/site-packages (from -r requirements.txt (line 5)) (0.13.2)\n",
      "Requirement already satisfied: mlflow in ./wsl_py3.10/lib/python3.10/site-packages (from -r requirements.txt (line 6)) (2.19.0)\n",
      "Requirement already satisfied: scikit-learn in ./wsl_py3.10/lib/python3.10/site-packages (from -r requirements.txt (line 7)) (1.6.1)\n",
      "Requirement already satisfied: xgboost in ./wsl_py3.10/lib/python3.10/site-packages (from -r requirements.txt (line 8)) (2.1.3)\n",
      "Requirement already satisfied: tornado>=6.1 in ./wsl_py3.10/lib/python3.10/site-packages (from ipykernel->-r requirements.txt (line 1)) (6.4.2)\n",
      "Requirement already satisfied: comm>=0.1.1 in ./wsl_py3.10/lib/python3.10/site-packages (from ipykernel->-r requirements.txt (line 1)) (0.2.2)\n",
      "Requirement already satisfied: nest-asyncio in ./wsl_py3.10/lib/python3.10/site-packages (from ipykernel->-r requirements.txt (line 1)) (1.6.0)\n",
      "Requirement already satisfied: pyzmq>=24 in ./wsl_py3.10/lib/python3.10/site-packages (from ipykernel->-r requirements.txt (line 1)) (26.2.0)\n",
      "Requirement already satisfied: traitlets>=5.4.0 in ./wsl_py3.10/lib/python3.10/site-packages (from ipykernel->-r requirements.txt (line 1)) (5.14.3)\n",
      "Requirement already satisfied: jupyter-core!=5.0.*,>=4.12 in ./wsl_py3.10/lib/python3.10/site-packages (from ipykernel->-r requirements.txt (line 1)) (5.7.2)\n",
      "Requirement already satisfied: psutil in ./wsl_py3.10/lib/python3.10/site-packages (from ipykernel->-r requirements.txt (line 1)) (6.1.1)\n",
      "Requirement already satisfied: ipython>=7.23.1 in ./wsl_py3.10/lib/python3.10/site-packages (from ipykernel->-r requirements.txt (line 1)) (8.31.0)\n",
      "Requirement already satisfied: debugpy>=1.6.5 in ./wsl_py3.10/lib/python3.10/site-packages (from ipykernel->-r requirements.txt (line 1)) (1.8.11)\n",
      "Requirement already satisfied: jupyter-client>=6.1.12 in ./wsl_py3.10/lib/python3.10/site-packages (from ipykernel->-r requirements.txt (line 1)) (8.6.3)\n",
      "Requirement already satisfied: matplotlib-inline>=0.1 in ./wsl_py3.10/lib/python3.10/site-packages (from ipykernel->-r requirements.txt (line 1)) (0.1.7)\n",
      "Requirement already satisfied: packaging in ./wsl_py3.10/lib/python3.10/site-packages (from ipykernel->-r requirements.txt (line 1)) (24.2)\n",
      "Requirement already satisfied: pytz>=2020.1 in ./wsl_py3.10/lib/python3.10/site-packages (from pandas->-r requirements.txt (line 3)) (2024.2)\n",
      "Requirement already satisfied: python-dateutil>=2.8.2 in ./wsl_py3.10/lib/python3.10/site-packages (from pandas->-r requirements.txt (line 3)) (2.9.0.post0)\n",
      "Requirement already satisfied: tzdata>=2022.7 in ./wsl_py3.10/lib/python3.10/site-packages (from pandas->-r requirements.txt (line 3)) (2024.2)\n",
      "Requirement already satisfied: cycler>=0.10 in ./wsl_py3.10/lib/python3.10/site-packages (from matplotlib->-r requirements.txt (line 4)) (0.12.1)\n",
      "Requirement already satisfied: contourpy>=1.0.1 in ./wsl_py3.10/lib/python3.10/site-packages (from matplotlib->-r requirements.txt (line 4)) (1.3.1)\n",
      "Requirement already satisfied: fonttools>=4.22.0 in ./wsl_py3.10/lib/python3.10/site-packages (from matplotlib->-r requirements.txt (line 4)) (4.55.3)\n",
      "Requirement already satisfied: kiwisolver>=1.3.1 in ./wsl_py3.10/lib/python3.10/site-packages (from matplotlib->-r requirements.txt (line 4)) (1.4.8)\n",
      "Requirement already satisfied: pyparsing>=2.3.1 in ./wsl_py3.10/lib/python3.10/site-packages (from matplotlib->-r requirements.txt (line 4)) (3.2.1)\n",
      "Requirement already satisfied: pillow>=8 in ./wsl_py3.10/lib/python3.10/site-packages (from matplotlib->-r requirements.txt (line 4)) (11.1.0)\n",
      "Requirement already satisfied: docker<8,>=4.0.0 in ./wsl_py3.10/lib/python3.10/site-packages (from mlflow->-r requirements.txt (line 6)) (7.1.0)\n",
      "Requirement already satisfied: scipy<2 in ./wsl_py3.10/lib/python3.10/site-packages (from mlflow->-r requirements.txt (line 6)) (1.15.1)\n",
      "Requirement already satisfied: graphene<4 in ./wsl_py3.10/lib/python3.10/site-packages (from mlflow->-r requirements.txt (line 6)) (3.4.3)\n",
      "Requirement already satisfied: sqlalchemy<3,>=1.4.0 in ./wsl_py3.10/lib/python3.10/site-packages (from mlflow->-r requirements.txt (line 6)) (2.0.37)\n",
      "Requirement already satisfied: Flask<4 in ./wsl_py3.10/lib/python3.10/site-packages (from mlflow->-r requirements.txt (line 6)) (3.1.0)\n",
      "Requirement already satisfied: mlflow-skinny==2.19.0 in ./wsl_py3.10/lib/python3.10/site-packages (from mlflow->-r requirements.txt (line 6)) (2.19.0)\n",
      "Requirement already satisfied: gunicorn<24 in ./wsl_py3.10/lib/python3.10/site-packages (from mlflow->-r requirements.txt (line 6)) (23.0.0)\n",
      "Requirement already satisfied: alembic!=1.10.0,<2 in ./wsl_py3.10/lib/python3.10/site-packages (from mlflow->-r requirements.txt (line 6)) (1.14.0)\n",
      "Requirement already satisfied: pyarrow<19,>=4.0.0 in ./wsl_py3.10/lib/python3.10/site-packages (from mlflow->-r requirements.txt (line 6)) (18.1.0)\n",
      "Requirement already satisfied: Jinja2<4,>=2.11 in ./wsl_py3.10/lib/python3.10/site-packages (from mlflow->-r requirements.txt (line 6)) (3.1.5)\n",
      "Requirement already satisfied: markdown<4,>=3.3 in ./wsl_py3.10/lib/python3.10/site-packages (from mlflow->-r requirements.txt (line 6)) (3.7)\n",
      "Requirement already satisfied: importlib_metadata!=4.7.0,<9,>=3.7.0 in ./wsl_py3.10/lib/python3.10/site-packages (from mlflow-skinny==2.19.0->mlflow->-r requirements.txt (line 6)) (8.5.0)\n",
      "Requirement already satisfied: databricks-sdk<1,>=0.20.0 in ./wsl_py3.10/lib/python3.10/site-packages (from mlflow-skinny==2.19.0->mlflow->-r requirements.txt (line 6)) (0.40.0)\n",
      "Requirement already satisfied: requests<3,>=2.17.3 in ./wsl_py3.10/lib/python3.10/site-packages (from mlflow-skinny==2.19.0->mlflow->-r requirements.txt (line 6)) (2.32.3)\n",
      "Requirement already satisfied: opentelemetry-api<3,>=1.9.0 in ./wsl_py3.10/lib/python3.10/site-packages (from mlflow-skinny==2.19.0->mlflow->-r requirements.txt (line 6)) (1.29.0)\n",
      "Requirement already satisfied: sqlparse<1,>=0.4.0 in ./wsl_py3.10/lib/python3.10/site-packages (from mlflow-skinny==2.19.0->mlflow->-r requirements.txt (line 6)) (0.5.3)\n",
      "Requirement already satisfied: opentelemetry-sdk<3,>=1.9.0 in ./wsl_py3.10/lib/python3.10/site-packages (from mlflow-skinny==2.19.0->mlflow->-r requirements.txt (line 6)) (1.29.0)\n",
      "Requirement already satisfied: cloudpickle<4 in ./wsl_py3.10/lib/python3.10/site-packages (from mlflow-skinny==2.19.0->mlflow->-r requirements.txt (line 6)) (3.1.1)\n",
      "Requirement already satisfied: protobuf<6,>=3.12.0 in ./wsl_py3.10/lib/python3.10/site-packages (from mlflow-skinny==2.19.0->mlflow->-r requirements.txt (line 6)) (5.29.3)\n",
      "Requirement already satisfied: click<9,>=7.0 in ./wsl_py3.10/lib/python3.10/site-packages (from mlflow-skinny==2.19.0->mlflow->-r requirements.txt (line 6)) (8.1.8)\n",
      "Requirement already satisfied: cachetools<6,>=5.0.0 in ./wsl_py3.10/lib/python3.10/site-packages (from mlflow-skinny==2.19.0->mlflow->-r requirements.txt (line 6)) (5.5.0)\n",
      "Requirement already satisfied: gitpython<4,>=3.1.9 in ./wsl_py3.10/lib/python3.10/site-packages (from mlflow-skinny==2.19.0->mlflow->-r requirements.txt (line 6)) (3.1.44)\n",
      "Requirement already satisfied: pyyaml<7,>=5.1 in ./wsl_py3.10/lib/python3.10/site-packages (from mlflow-skinny==2.19.0->mlflow->-r requirements.txt (line 6)) (6.0.2)\n",
      "Requirement already satisfied: threadpoolctl>=3.1.0 in ./wsl_py3.10/lib/python3.10/site-packages (from scikit-learn->-r requirements.txt (line 7)) (3.5.0)\n",
      "Requirement already satisfied: joblib>=1.2.0 in ./wsl_py3.10/lib/python3.10/site-packages (from scikit-learn->-r requirements.txt (line 7)) (1.4.2)\n",
      "Requirement already satisfied: nvidia-nccl-cu12 in ./wsl_py3.10/lib/python3.10/site-packages (from xgboost->-r requirements.txt (line 8)) (2.21.5)\n",
      "Requirement already satisfied: typing-extensions>=4 in ./wsl_py3.10/lib/python3.10/site-packages (from alembic!=1.10.0,<2->mlflow->-r requirements.txt (line 6)) (4.12.2)\n",
      "Requirement already satisfied: Mako in ./wsl_py3.10/lib/python3.10/site-packages (from alembic!=1.10.0,<2->mlflow->-r requirements.txt (line 6)) (1.3.8)\n",
      "Requirement already satisfied: urllib3>=1.26.0 in ./wsl_py3.10/lib/python3.10/site-packages (from docker<8,>=4.0.0->mlflow->-r requirements.txt (line 6)) (2.3.0)\n",
      "Requirement already satisfied: blinker>=1.9 in ./wsl_py3.10/lib/python3.10/site-packages (from Flask<4->mlflow->-r requirements.txt (line 6)) (1.9.0)\n",
      "Requirement already satisfied: Werkzeug>=3.1 in ./wsl_py3.10/lib/python3.10/site-packages (from Flask<4->mlflow->-r requirements.txt (line 6)) (3.1.3)\n",
      "Requirement already satisfied: itsdangerous>=2.2 in ./wsl_py3.10/lib/python3.10/site-packages (from Flask<4->mlflow->-r requirements.txt (line 6)) (2.2.0)\n",
      "Requirement already satisfied: graphql-relay<3.3,>=3.1 in ./wsl_py3.10/lib/python3.10/site-packages (from graphene<4->mlflow->-r requirements.txt (line 6)) (3.2.0)\n",
      "Requirement already satisfied: graphql-core<3.3,>=3.1 in ./wsl_py3.10/lib/python3.10/site-packages (from graphene<4->mlflow->-r requirements.txt (line 6)) (3.2.5)\n",
      "Requirement already satisfied: exceptiongroup in ./wsl_py3.10/lib/python3.10/site-packages (from ipython>=7.23.1->ipykernel->-r requirements.txt (line 1)) (1.2.2)\n",
      "Requirement already satisfied: pygments>=2.4.0 in ./wsl_py3.10/lib/python3.10/site-packages (from ipython>=7.23.1->ipykernel->-r requirements.txt (line 1)) (2.19.1)\n",
      "Requirement already satisfied: jedi>=0.16 in ./wsl_py3.10/lib/python3.10/site-packages (from ipython>=7.23.1->ipykernel->-r requirements.txt (line 1)) (0.19.2)\n",
      "Requirement already satisfied: pexpect>4.3 in ./wsl_py3.10/lib/python3.10/site-packages (from ipython>=7.23.1->ipykernel->-r requirements.txt (line 1)) (4.9.0)\n",
      "Requirement already satisfied: prompt_toolkit<3.1.0,>=3.0.41 in ./wsl_py3.10/lib/python3.10/site-packages (from ipython>=7.23.1->ipykernel->-r requirements.txt (line 1)) (3.0.48)\n",
      "Requirement already satisfied: stack_data in ./wsl_py3.10/lib/python3.10/site-packages (from ipython>=7.23.1->ipykernel->-r requirements.txt (line 1)) (0.6.3)\n",
      "Requirement already satisfied: decorator in ./wsl_py3.10/lib/python3.10/site-packages (from ipython>=7.23.1->ipykernel->-r requirements.txt (line 1)) (5.1.1)\n",
      "Requirement already satisfied: MarkupSafe>=2.0 in ./wsl_py3.10/lib/python3.10/site-packages (from Jinja2<4,>=2.11->mlflow->-r requirements.txt (line 6)) (3.0.2)\n",
      "Requirement already satisfied: platformdirs>=2.5 in ./wsl_py3.10/lib/python3.10/site-packages (from jupyter-core!=5.0.*,>=4.12->ipykernel->-r requirements.txt (line 1)) (4.3.6)\n",
      "Requirement already satisfied: six>=1.5 in ./wsl_py3.10/lib/python3.10/site-packages (from python-dateutil>=2.8.2->pandas->-r requirements.txt (line 3)) (1.17.0)\n",
      "Requirement already satisfied: greenlet!=0.4.17 in ./wsl_py3.10/lib/python3.10/site-packages (from sqlalchemy<3,>=1.4.0->mlflow->-r requirements.txt (line 6)) (3.1.1)\n",
      "Requirement already satisfied: google-auth~=2.0 in ./wsl_py3.10/lib/python3.10/site-packages (from databricks-sdk<1,>=0.20.0->mlflow-skinny==2.19.0->mlflow->-r requirements.txt (line 6)) (2.37.0)\n",
      "Requirement already satisfied: gitdb<5,>=4.0.1 in ./wsl_py3.10/lib/python3.10/site-packages (from gitpython<4,>=3.1.9->mlflow-skinny==2.19.0->mlflow->-r requirements.txt (line 6)) (4.0.12)\n",
      "Requirement already satisfied: zipp>=3.20 in ./wsl_py3.10/lib/python3.10/site-packages (from importlib_metadata!=4.7.0,<9,>=3.7.0->mlflow-skinny==2.19.0->mlflow->-r requirements.txt (line 6)) (3.21.0)\n",
      "Requirement already satisfied: parso<0.9.0,>=0.8.4 in ./wsl_py3.10/lib/python3.10/site-packages (from jedi>=0.16->ipython>=7.23.1->ipykernel->-r requirements.txt (line 1)) (0.8.4)\n",
      "Requirement already satisfied: deprecated>=1.2.6 in ./wsl_py3.10/lib/python3.10/site-packages (from opentelemetry-api<3,>=1.9.0->mlflow-skinny==2.19.0->mlflow->-r requirements.txt (line 6)) (1.2.15)\n",
      "Requirement already satisfied: opentelemetry-semantic-conventions==0.50b0 in ./wsl_py3.10/lib/python3.10/site-packages (from opentelemetry-sdk<3,>=1.9.0->mlflow-skinny==2.19.0->mlflow->-r requirements.txt (line 6)) (0.50b0)\n",
      "Requirement already satisfied: ptyprocess>=0.5 in ./wsl_py3.10/lib/python3.10/site-packages (from pexpect>4.3->ipython>=7.23.1->ipykernel->-r requirements.txt (line 1)) (0.7.0)\n",
      "Requirement already satisfied: wcwidth in ./wsl_py3.10/lib/python3.10/site-packages (from prompt_toolkit<3.1.0,>=3.0.41->ipython>=7.23.1->ipykernel->-r requirements.txt (line 1)) (0.2.13)\n",
      "Requirement already satisfied: charset-normalizer<4,>=2 in ./wsl_py3.10/lib/python3.10/site-packages (from requests<3,>=2.17.3->mlflow-skinny==2.19.0->mlflow->-r requirements.txt (line 6)) (3.4.1)\n",
      "Requirement already satisfied: certifi>=2017.4.17 in ./wsl_py3.10/lib/python3.10/site-packages (from requests<3,>=2.17.3->mlflow-skinny==2.19.0->mlflow->-r requirements.txt (line 6)) (2024.12.14)\n",
      "Requirement already satisfied: idna<4,>=2.5 in ./wsl_py3.10/lib/python3.10/site-packages (from requests<3,>=2.17.3->mlflow-skinny==2.19.0->mlflow->-r requirements.txt (line 6)) (3.10)\n",
      "Requirement already satisfied: executing>=1.2.0 in ./wsl_py3.10/lib/python3.10/site-packages (from stack_data->ipython>=7.23.1->ipykernel->-r requirements.txt (line 1)) (2.1.0)\n",
      "Requirement already satisfied: pure-eval in ./wsl_py3.10/lib/python3.10/site-packages (from stack_data->ipython>=7.23.1->ipykernel->-r requirements.txt (line 1)) (0.2.3)\n",
      "Requirement already satisfied: asttokens>=2.1.0 in ./wsl_py3.10/lib/python3.10/site-packages (from stack_data->ipython>=7.23.1->ipykernel->-r requirements.txt (line 1)) (3.0.0)\n",
      "Requirement already satisfied: wrapt<2,>=1.10 in ./wsl_py3.10/lib/python3.10/site-packages (from deprecated>=1.2.6->opentelemetry-api<3,>=1.9.0->mlflow-skinny==2.19.0->mlflow->-r requirements.txt (line 6)) (1.17.2)\n",
      "Requirement already satisfied: smmap<6,>=3.0.1 in ./wsl_py3.10/lib/python3.10/site-packages (from gitdb<5,>=4.0.1->gitpython<4,>=3.1.9->mlflow-skinny==2.19.0->mlflow->-r requirements.txt (line 6)) (5.0.2)\n",
      "Requirement already satisfied: pyasn1-modules>=0.2.1 in ./wsl_py3.10/lib/python3.10/site-packages (from google-auth~=2.0->databricks-sdk<1,>=0.20.0->mlflow-skinny==2.19.0->mlflow->-r requirements.txt (line 6)) (0.4.1)\n",
      "Requirement already satisfied: rsa<5,>=3.1.4 in ./wsl_py3.10/lib/python3.10/site-packages (from google-auth~=2.0->databricks-sdk<1,>=0.20.0->mlflow-skinny==2.19.0->mlflow->-r requirements.txt (line 6)) (4.9)\n",
      "Requirement already satisfied: pyasn1<0.7.0,>=0.4.6 in ./wsl_py3.10/lib/python3.10/site-packages (from pyasn1-modules>=0.2.1->google-auth~=2.0->databricks-sdk<1,>=0.20.0->mlflow-skinny==2.19.0->mlflow->-r requirements.txt (line 6)) (0.6.1)\n"
     ]
    }
   ],
   "source": [
    "!pip install -r requirements.txt"
   ]
  },
  {
   "cell_type": "code",
   "execution_count": 5,
   "id": "c0625ed7-069d-46f3-9283-4e647f94ddc5",
   "metadata": {},
   "outputs": [],
   "source": [
    "import numpy as np\n",
    "import pandas as pd\n",
    "import matplotlib.pyplot as plt\n",
    "#import seaborn as sb\n",
    "\n",
    "import mlflow\n",
    "\n",
    "from sklearn.model_selection import train_test_split\n",
    "from sklearn.preprocessing import MinMaxScaler\n",
    "from sklearn import metrics\n",
    "from sklearn.metrics import accuracy_score, confusion_matrix\n",
    "from sklearn.svm import SVC\n",
    "from sklearn.linear_model import LogisticRegression\n",
    " \n",
    "import warnings\n",
    "warnings.filterwarnings('ignore')"
   ]
  },
  {
   "cell_type": "code",
   "execution_count": 6,
   "id": "bc910133-e7c4-4ee0-8973-3577b2ef1892",
   "metadata": {},
   "outputs": [
    {
     "name": "stdout",
     "output_type": "stream",
     "text": [
      "Python 3.10.6\n"
     ]
    }
   ],
   "source": [
    "!python3 --version"
   ]
  },
  {
   "cell_type": "markdown",
   "id": "ac80e98c",
   "metadata": {},
   "source": [
    "# Data Explorations & Feature Engineering"
   ]
  },
  {
   "cell_type": "code",
   "execution_count": 7,
   "id": "f70500ed-99e3-49a9-9ed5-3fab7134f753",
   "metadata": {},
   "outputs": [
    {
     "name": "stdout",
     "output_type": "stream",
     "text": [
      "   fixed acidity  volatile acidity  citric acid  residual sugar  chlorides  \\\n",
      "0            7.4              0.70         0.00             1.9      0.076   \n",
      "1            7.8              0.88         0.00             2.6      0.098   \n",
      "2            7.8              0.76         0.04             2.3      0.092   \n",
      "3           11.2              0.28         0.56             1.9      0.075   \n",
      "4            7.4              0.70         0.00             1.9      0.076   \n",
      "\n",
      "   free sulfur dioxide  total sulfur dioxide  density    pH  sulphates  \\\n",
      "0                 11.0                  34.0   0.9978  3.51       0.56   \n",
      "1                 25.0                  67.0   0.9968  3.20       0.68   \n",
      "2                 15.0                  54.0   0.9970  3.26       0.65   \n",
      "3                 17.0                  60.0   0.9980  3.16       0.58   \n",
      "4                 11.0                  34.0   0.9978  3.51       0.56   \n",
      "\n",
      "   alcohol  quality  \n",
      "0      9.4        5  \n",
      "1      9.8        5  \n",
      "2      9.8        5  \n",
      "3      9.8        6  \n",
      "4      9.4        5  \n"
     ]
    }
   ],
   "source": [
    "df = pd.read_csv('winequality-red.csv')\n",
    "print(df.head())"
   ]
  },
  {
   "cell_type": "code",
   "execution_count": 8,
   "id": "0956f8c0-90b9-4e19-87e8-5419e035a2b6",
   "metadata": {},
   "outputs": [
    {
     "name": "stdout",
     "output_type": "stream",
     "text": [
      "<class 'pandas.core.frame.DataFrame'>\n",
      "RangeIndex: 1599 entries, 0 to 1598\n",
      "Data columns (total 12 columns):\n",
      " #   Column                Non-Null Count  Dtype  \n",
      "---  ------                --------------  -----  \n",
      " 0   fixed acidity         1599 non-null   float64\n",
      " 1   volatile acidity      1599 non-null   float64\n",
      " 2   citric acid           1599 non-null   float64\n",
      " 3   residual sugar        1599 non-null   float64\n",
      " 4   chlorides             1599 non-null   float64\n",
      " 5   free sulfur dioxide   1599 non-null   float64\n",
      " 6   total sulfur dioxide  1599 non-null   float64\n",
      " 7   density               1599 non-null   float64\n",
      " 8   pH                    1599 non-null   float64\n",
      " 9   sulphates             1599 non-null   float64\n",
      " 10  alcohol               1599 non-null   float64\n",
      " 11  quality               1599 non-null   int64  \n",
      "dtypes: float64(11), int64(1)\n",
      "memory usage: 150.0 KB\n"
     ]
    }
   ],
   "source": [
    "# type of data present in each of the columns present in the dataset.\n",
    "df.info()"
   ]
  },
  {
   "cell_type": "code",
   "execution_count": 9,
   "id": "bc490e9c-b6b8-4f9c-941c-e5a75251b6e9",
   "metadata": {},
   "outputs": [
    {
     "data": {
      "text/html": [
       "<div>\n",
       "<style scoped>\n",
       "    .dataframe tbody tr th:only-of-type {\n",
       "        vertical-align: middle;\n",
       "    }\n",
       "\n",
       "    .dataframe tbody tr th {\n",
       "        vertical-align: top;\n",
       "    }\n",
       "\n",
       "    .dataframe thead th {\n",
       "        text-align: right;\n",
       "    }\n",
       "</style>\n",
       "<table border=\"1\" class=\"dataframe\">\n",
       "  <thead>\n",
       "    <tr style=\"text-align: right;\">\n",
       "      <th></th>\n",
       "      <th>count</th>\n",
       "      <th>mean</th>\n",
       "      <th>std</th>\n",
       "      <th>min</th>\n",
       "      <th>25%</th>\n",
       "      <th>50%</th>\n",
       "      <th>75%</th>\n",
       "      <th>max</th>\n",
       "    </tr>\n",
       "  </thead>\n",
       "  <tbody>\n",
       "    <tr>\n",
       "      <th>fixed acidity</th>\n",
       "      <td>1599.0</td>\n",
       "      <td>8.319637</td>\n",
       "      <td>1.741096</td>\n",
       "      <td>4.60000</td>\n",
       "      <td>7.1000</td>\n",
       "      <td>7.90000</td>\n",
       "      <td>9.200000</td>\n",
       "      <td>15.90000</td>\n",
       "    </tr>\n",
       "    <tr>\n",
       "      <th>volatile acidity</th>\n",
       "      <td>1599.0</td>\n",
       "      <td>0.527821</td>\n",
       "      <td>0.179060</td>\n",
       "      <td>0.12000</td>\n",
       "      <td>0.3900</td>\n",
       "      <td>0.52000</td>\n",
       "      <td>0.640000</td>\n",
       "      <td>1.58000</td>\n",
       "    </tr>\n",
       "    <tr>\n",
       "      <th>citric acid</th>\n",
       "      <td>1599.0</td>\n",
       "      <td>0.270976</td>\n",
       "      <td>0.194801</td>\n",
       "      <td>0.00000</td>\n",
       "      <td>0.0900</td>\n",
       "      <td>0.26000</td>\n",
       "      <td>0.420000</td>\n",
       "      <td>1.00000</td>\n",
       "    </tr>\n",
       "    <tr>\n",
       "      <th>residual sugar</th>\n",
       "      <td>1599.0</td>\n",
       "      <td>2.538806</td>\n",
       "      <td>1.409928</td>\n",
       "      <td>0.90000</td>\n",
       "      <td>1.9000</td>\n",
       "      <td>2.20000</td>\n",
       "      <td>2.600000</td>\n",
       "      <td>15.50000</td>\n",
       "    </tr>\n",
       "    <tr>\n",
       "      <th>chlorides</th>\n",
       "      <td>1599.0</td>\n",
       "      <td>0.087467</td>\n",
       "      <td>0.047065</td>\n",
       "      <td>0.01200</td>\n",
       "      <td>0.0700</td>\n",
       "      <td>0.07900</td>\n",
       "      <td>0.090000</td>\n",
       "      <td>0.61100</td>\n",
       "    </tr>\n",
       "    <tr>\n",
       "      <th>free sulfur dioxide</th>\n",
       "      <td>1599.0</td>\n",
       "      <td>15.874922</td>\n",
       "      <td>10.460157</td>\n",
       "      <td>1.00000</td>\n",
       "      <td>7.0000</td>\n",
       "      <td>14.00000</td>\n",
       "      <td>21.000000</td>\n",
       "      <td>72.00000</td>\n",
       "    </tr>\n",
       "    <tr>\n",
       "      <th>total sulfur dioxide</th>\n",
       "      <td>1599.0</td>\n",
       "      <td>46.467792</td>\n",
       "      <td>32.895324</td>\n",
       "      <td>6.00000</td>\n",
       "      <td>22.0000</td>\n",
       "      <td>38.00000</td>\n",
       "      <td>62.000000</td>\n",
       "      <td>289.00000</td>\n",
       "    </tr>\n",
       "    <tr>\n",
       "      <th>density</th>\n",
       "      <td>1599.0</td>\n",
       "      <td>0.996747</td>\n",
       "      <td>0.001887</td>\n",
       "      <td>0.99007</td>\n",
       "      <td>0.9956</td>\n",
       "      <td>0.99675</td>\n",
       "      <td>0.997835</td>\n",
       "      <td>1.00369</td>\n",
       "    </tr>\n",
       "    <tr>\n",
       "      <th>pH</th>\n",
       "      <td>1599.0</td>\n",
       "      <td>3.311113</td>\n",
       "      <td>0.154386</td>\n",
       "      <td>2.74000</td>\n",
       "      <td>3.2100</td>\n",
       "      <td>3.31000</td>\n",
       "      <td>3.400000</td>\n",
       "      <td>4.01000</td>\n",
       "    </tr>\n",
       "    <tr>\n",
       "      <th>sulphates</th>\n",
       "      <td>1599.0</td>\n",
       "      <td>0.658149</td>\n",
       "      <td>0.169507</td>\n",
       "      <td>0.33000</td>\n",
       "      <td>0.5500</td>\n",
       "      <td>0.62000</td>\n",
       "      <td>0.730000</td>\n",
       "      <td>2.00000</td>\n",
       "    </tr>\n",
       "    <tr>\n",
       "      <th>alcohol</th>\n",
       "      <td>1599.0</td>\n",
       "      <td>10.422983</td>\n",
       "      <td>1.065668</td>\n",
       "      <td>8.40000</td>\n",
       "      <td>9.5000</td>\n",
       "      <td>10.20000</td>\n",
       "      <td>11.100000</td>\n",
       "      <td>14.90000</td>\n",
       "    </tr>\n",
       "    <tr>\n",
       "      <th>quality</th>\n",
       "      <td>1599.0</td>\n",
       "      <td>5.636023</td>\n",
       "      <td>0.807569</td>\n",
       "      <td>3.00000</td>\n",
       "      <td>5.0000</td>\n",
       "      <td>6.00000</td>\n",
       "      <td>6.000000</td>\n",
       "      <td>8.00000</td>\n",
       "    </tr>\n",
       "  </tbody>\n",
       "</table>\n",
       "</div>"
      ],
      "text/plain": [
       "                       count       mean        std      min      25%  \\\n",
       "fixed acidity         1599.0   8.319637   1.741096  4.60000   7.1000   \n",
       "volatile acidity      1599.0   0.527821   0.179060  0.12000   0.3900   \n",
       "citric acid           1599.0   0.270976   0.194801  0.00000   0.0900   \n",
       "residual sugar        1599.0   2.538806   1.409928  0.90000   1.9000   \n",
       "chlorides             1599.0   0.087467   0.047065  0.01200   0.0700   \n",
       "free sulfur dioxide   1599.0  15.874922  10.460157  1.00000   7.0000   \n",
       "total sulfur dioxide  1599.0  46.467792  32.895324  6.00000  22.0000   \n",
       "density               1599.0   0.996747   0.001887  0.99007   0.9956   \n",
       "pH                    1599.0   3.311113   0.154386  2.74000   3.2100   \n",
       "sulphates             1599.0   0.658149   0.169507  0.33000   0.5500   \n",
       "alcohol               1599.0  10.422983   1.065668  8.40000   9.5000   \n",
       "quality               1599.0   5.636023   0.807569  3.00000   5.0000   \n",
       "\n",
       "                           50%        75%        max  \n",
       "fixed acidity          7.90000   9.200000   15.90000  \n",
       "volatile acidity       0.52000   0.640000    1.58000  \n",
       "citric acid            0.26000   0.420000    1.00000  \n",
       "residual sugar         2.20000   2.600000   15.50000  \n",
       "chlorides              0.07900   0.090000    0.61100  \n",
       "free sulfur dioxide   14.00000  21.000000   72.00000  \n",
       "total sulfur dioxide  38.00000  62.000000  289.00000  \n",
       "density                0.99675   0.997835    1.00369  \n",
       "pH                     3.31000   3.400000    4.01000  \n",
       "sulphates              0.62000   0.730000    2.00000  \n",
       "alcohol               10.20000  11.100000   14.90000  \n",
       "quality                6.00000   6.000000    8.00000  "
      ]
     },
     "execution_count": 9,
     "metadata": {},
     "output_type": "execute_result"
    }
   ],
   "source": [
    "#descriptive statistical measures of the dataset.\n",
    "df.describe().T"
   ]
  },
  {
   "cell_type": "code",
   "execution_count": 10,
   "id": "ebbcb371-cf48-46b0-9704-bba87ef2d31d",
   "metadata": {},
   "outputs": [
    {
     "data": {
      "text/plain": [
       "fixed acidity           0\n",
       "volatile acidity        0\n",
       "citric acid             0\n",
       "residual sugar          0\n",
       "chlorides               0\n",
       "free sulfur dioxide     0\n",
       "total sulfur dioxide    0\n",
       "density                 0\n",
       "pH                      0\n",
       "sulphates               0\n",
       "alcohol                 0\n",
       "quality                 0\n",
       "dtype: int64"
      ]
     },
     "execution_count": 10,
     "metadata": {},
     "output_type": "execute_result"
    }
   ],
   "source": [
    "df.isnull().sum()"
   ]
  },
  {
   "cell_type": "code",
   "execution_count": 11,
   "id": "b3942c67-2690-464e-b496-18935d2d35fe",
   "metadata": {},
   "outputs": [
    {
     "data": {
      "text/plain": [
       "0"
      ]
     },
     "execution_count": 11,
     "metadata": {},
     "output_type": "execute_result"
    }
   ],
   "source": [
    "# Let’s impute the missing values by means as the data present in the different columns are continuous values.\n",
    "for col in df.columns:\n",
    "    if df[col].isnull().sum() > 0:\n",
    "        df[col] = df[col].fillna(df[col].mean())\n",
    "\n",
    "df.isnull().sum().sum()"
   ]
  },
  {
   "cell_type": "code",
   "execution_count": 12,
   "id": "5221009a-52ce-4ab2-8d17-ebb615bb9183",
   "metadata": {},
   "outputs": [
    {
     "data": {
      "image/png": "[encoded data removed]",
      "text/plain": [
       "<Figure size 720x720 with 12 Axes>"
      ]
     },
     "metadata": {
      "needs_background": "light"
     },
     "output_type": "display_data"
    }
   ],
   "source": [
    "# Plotting histogram to visualise the distribution of the data\n",
    "df.hist(bins=20, figsize=(10, 10))\n",
    "plt.show()"
   ]
  },
  {
   "cell_type": "code",
   "execution_count": 13,
   "id": "da8f924c-2f99-49f5-b409-08b7e2f5c64c",
   "metadata": {},
   "outputs": [
    {
     "data": {
      "image/png": "[encoded data removed]",
      "text/plain": [
       "<Figure size 432x288 with 1 Axes>"
      ]
     },
     "metadata": {
      "needs_background": "light"
     },
     "output_type": "display_data"
    }
   ],
   "source": [
    "plt.bar(df['quality'], df['alcohol'])\n",
    "plt.xlabel('quality')\n",
    "plt.ylabel('alcohol')\n",
    "plt.show()"
   ]
  },
  {
   "cell_type": "code",
   "execution_count": 14,
   "id": "d800dfe4-c0e7-4b1d-aaec-4b3300c8bf19",
   "metadata": {},
   "outputs": [
    {
     "ename": "NameError",
     "evalue": "name 'sb' is not defined",
     "output_type": "error",
     "traceback": [
      "\u001b[0;31m---------------------------------------------------------------------------\u001b[0m",
      "\u001b[0;31mNameError\u001b[0m                                 Traceback (most recent call last)",
      "\u001b[0;32m/tmp/ipykernel_10592/228325167.py\u001b[0m in \u001b[0;36m<module>\u001b[0;34m\u001b[0m\n\u001b[1;32m      1\u001b[0m \u001b[0mplt\u001b[0m\u001b[0;34m.\u001b[0m\u001b[0mfigure\u001b[0m\u001b[0;34m(\u001b[0m\u001b[0mfigsize\u001b[0m\u001b[0;34m=\u001b[0m\u001b[0;34m(\u001b[0m\u001b[0;36m12\u001b[0m\u001b[0;34m,\u001b[0m \u001b[0;36m12\u001b[0m\u001b[0;34m)\u001b[0m\u001b[0;34m)\u001b[0m\u001b[0;34m\u001b[0m\u001b[0;34m\u001b[0m\u001b[0m\n\u001b[0;32m----> 2\u001b[0;31m \u001b[0msb\u001b[0m\u001b[0;34m.\u001b[0m\u001b[0mheatmap\u001b[0m\u001b[0;34m(\u001b[0m\u001b[0mdf\u001b[0m\u001b[0;34m.\u001b[0m\u001b[0mcorr\u001b[0m\u001b[0;34m(\u001b[0m\u001b[0;34m)\u001b[0m \u001b[0;34m,\u001b[0m \u001b[0mannot\u001b[0m\u001b[0;34m=\u001b[0m\u001b[0;32mTrue\u001b[0m\u001b[0;34m,\u001b[0m \u001b[0mcmap\u001b[0m \u001b[0;34m=\u001b[0m \u001b[0;34m'coolwarm'\u001b[0m\u001b[0;34m,\u001b[0m\u001b[0mcbar\u001b[0m\u001b[0;34m=\u001b[0m\u001b[0;32mTrue\u001b[0m\u001b[0;34m)\u001b[0m\u001b[0;34m\u001b[0m\u001b[0;34m\u001b[0m\u001b[0m\n\u001b[0m\u001b[1;32m      3\u001b[0m \u001b[0mplt\u001b[0m\u001b[0;34m.\u001b[0m\u001b[0mshow\u001b[0m\u001b[0;34m(\u001b[0m\u001b[0;34m)\u001b[0m\u001b[0;34m\u001b[0m\u001b[0;34m\u001b[0m\u001b[0m\n",
      "\u001b[0;31mNameError\u001b[0m: name 'sb' is not defined"
     ]
    },
    {
     "data": {
      "text/plain": [
       "<Figure size 864x864 with 0 Axes>"
      ]
     },
     "metadata": {},
     "output_type": "display_data"
    }
   ],
   "source": [
    "plt.figure(figsize=(12, 12))\n",
    "sb.heatmap(df.corr() , annot=True, cmap = 'coolwarm',cbar=True)\n",
    "plt.show()"
   ]
  },
  {
   "cell_type": "code",
   "execution_count": 15,
   "id": "9ee12ddd-0fc0-4b92-8a0d-a416631f7f95",
   "metadata": {},
   "outputs": [
    {
     "data": {
      "text/plain": [
       "quality                 1.000000\n",
       "alcohol                 0.476166\n",
       "sulphates               0.251397\n",
       "citric acid             0.226373\n",
       "fixed acidity           0.124052\n",
       "residual sugar          0.013732\n",
       "free sulfur dioxide    -0.050656\n",
       "pH                     -0.057731\n",
       "chlorides              -0.128907\n",
       "density                -0.174919\n",
       "total sulfur dioxide   -0.185100\n",
       "volatile acidity       -0.390558\n",
       "Name: quality, dtype: float64"
      ]
     },
     "execution_count": 15,
     "metadata": {},
     "output_type": "execute_result"
    }
   ],
   "source": [
    "df.corr()['quality'].sort_values(ascending=False)"
   ]
  },
  {
   "cell_type": "code",
   "execution_count": 16,
   "id": "4702ebe8-6d32-4f24-af40-28dca840bb82",
   "metadata": {},
   "outputs": [
    {
     "data": {
      "text/plain": [
       "quality\n",
       "5    681\n",
       "6    638\n",
       "7    199\n",
       "4     53\n",
       "8     18\n",
       "3     10\n",
       "Name: count, dtype: int64"
      ]
     },
     "execution_count": 16,
     "metadata": {},
     "output_type": "execute_result"
    }
   ],
   "source": [
    "df['quality'].value_counts()"
   ]
  },
  {
   "cell_type": "code",
   "execution_count": 17,
   "id": "b90c4a8f-e2df-4ccc-a8e0-6a562d59fb22",
   "metadata": {},
   "outputs": [
    {
     "ename": "NameError",
     "evalue": "name 'sb' is not defined",
     "output_type": "error",
     "traceback": [
      "\u001b[0;31m---------------------------------------------------------------------------\u001b[0m",
      "\u001b[0;31mNameError\u001b[0m                                 Traceback (most recent call last)",
      "\u001b[0;32m/tmp/ipykernel_10592/3472441677.py\u001b[0m in \u001b[0;36m<module>\u001b[0;34m\u001b[0m\n\u001b[1;32m      4\u001b[0m \u001b[0;34m\u001b[0m\u001b[0m\n\u001b[1;32m      5\u001b[0m \u001b[0mplt\u001b[0m\u001b[0;34m.\u001b[0m\u001b[0mfigure\u001b[0m\u001b[0;34m(\u001b[0m\u001b[0mnum\u001b[0m\u001b[0;34m=\u001b[0m\u001b[0;32mNone\u001b[0m\u001b[0;34m)\u001b[0m\u001b[0;34m\u001b[0m\u001b[0;34m\u001b[0m\u001b[0m\n\u001b[0;32m----> 6\u001b[0;31m \u001b[0msb\u001b[0m\u001b[0;34m.\u001b[0m\u001b[0mcountplot\u001b[0m\u001b[0;34m(\u001b[0m\u001b[0mdata\u001b[0m \u001b[0;34m=\u001b[0m \u001b[0mdf\u001b[0m\u001b[0;34m,\u001b[0m \u001b[0mx\u001b[0m \u001b[0;34m=\u001b[0m \u001b[0;34m'quality'\u001b[0m\u001b[0;34m,\u001b[0m \u001b[0msaturation\u001b[0m\u001b[0;34m=\u001b[0m\u001b[0;36m0.5\u001b[0m\u001b[0;34m)\u001b[0m\u001b[0;34m\u001b[0m\u001b[0;34m\u001b[0m\u001b[0m\n\u001b[0m\u001b[1;32m      7\u001b[0m \u001b[0mplt\u001b[0m\u001b[0;34m.\u001b[0m\u001b[0mtitle\u001b[0m\u001b[0;34m(\u001b[0m\u001b[0;34m\"Types of Wine\"\u001b[0m\u001b[0;34m)\u001b[0m\u001b[0;34m\u001b[0m\u001b[0;34m\u001b[0m\u001b[0m\n\u001b[1;32m      8\u001b[0m \u001b[0mplt\u001b[0m\u001b[0;34m.\u001b[0m\u001b[0mshow\u001b[0m\u001b[0;34m(\u001b[0m\u001b[0;34m)\u001b[0m\u001b[0;34m\u001b[0m\u001b[0;34m\u001b[0m\u001b[0m\n",
      "\u001b[0;31mNameError\u001b[0m: name 'sb' is not defined"
     ]
    },
    {
     "data": {
      "text/plain": [
       "<Figure size 432x288 with 0 Axes>"
      ]
     },
     "metadata": {},
     "output_type": "display_data"
    }
   ],
   "source": [
    "# Plot quality classification \n",
    "      \n",
    "df['quality'].value_counts()\n",
    "      \n",
    "plt.figure(num=None)\n",
    "sb.countplot(data = df, x = 'quality', saturation=0.5)\n",
    "plt.title(\"Types of Wine\")\n",
    "plt.show()"
   ]
  },
  {
   "cell_type": "code",
   "execution_count": 18,
   "id": "ee9971bc-2ed2-4e85-b796-e5c1699b4a91",
   "metadata": {},
   "outputs": [],
   "source": [
    "#df = df.drop('total sulfur dioxide', axis=1)"
   ]
  },
  {
   "cell_type": "code",
   "execution_count": 19,
   "id": "33562de6-a109-436a-ada1-4c6044190494",
   "metadata": {},
   "outputs": [],
   "source": [
    "df['best quality'] = [1 if x > 5 else 0 for x in df.quality]"
   ]
  },
  {
   "cell_type": "code",
   "execution_count": 20,
   "id": "5d3c7acc-88b0-46c1-b9d6-ab5d35f926c6",
   "metadata": {},
   "outputs": [
    {
     "name": "stdout",
     "output_type": "stream",
     "text": [
      "   fixed acidity  volatile acidity  citric acid  residual sugar  chlorides  \\\n",
      "0            7.4              0.70         0.00             1.9      0.076   \n",
      "1            7.8              0.88         0.00             2.6      0.098   \n",
      "2            7.8              0.76         0.04             2.3      0.092   \n",
      "3           11.2              0.28         0.56             1.9      0.075   \n",
      "4            7.4              0.70         0.00             1.9      0.076   \n",
      "\n",
      "   free sulfur dioxide  total sulfur dioxide  density    pH  sulphates  \\\n",
      "0                 11.0                  34.0   0.9978  3.51       0.56   \n",
      "1                 25.0                  67.0   0.9968  3.20       0.68   \n",
      "2                 15.0                  54.0   0.9970  3.26       0.65   \n",
      "3                 17.0                  60.0   0.9980  3.16       0.58   \n",
      "4                 11.0                  34.0   0.9978  3.51       0.56   \n",
      "\n",
      "   alcohol  quality  best quality  \n",
      "0      9.4        5             0  \n",
      "1      9.8        5             0  \n",
      "2      9.8        5             0  \n",
      "3      9.8        6             1  \n",
      "4      9.4        5             0  \n"
     ]
    }
   ],
   "source": [
    "print(df.head())"
   ]
  },
  {
   "cell_type": "code",
   "execution_count": 21,
   "id": "57738285-30bc-4b96-a7da-43260922ec26",
   "metadata": {},
   "outputs": [],
   "source": [
    "#df.replace({'white': 1, 'red': 0}, inplace=True)"
   ]
  },
  {
   "cell_type": "code",
   "execution_count": 22,
   "id": "57a11992-e5bb-424f-8a26-12f9bfab2f02",
   "metadata": {},
   "outputs": [
    {
     "data": {
      "text/plain": [
       "((1279, 11), (320, 11))"
      ]
     },
     "execution_count": 22,
     "metadata": {},
     "output_type": "execute_result"
    }
   ],
   "source": [
    "features = df.drop(['quality', 'best quality'], axis=1)\n",
    "target = df['best quality']\n",
    "\n",
    "X_train, X_test, y_train, y_test = train_test_split(\n",
    "\tfeatures, target, test_size=0.2, random_state=40)\n",
    "\n",
    "X_train.shape, X_test.shape\n"
   ]
  },
  {
   "cell_type": "code",
   "execution_count": 23,
   "id": "7efc2899-38af-45ad-9adb-577aee61652f",
   "metadata": {},
   "outputs": [
    {
     "name": "stdout",
     "output_type": "stream",
     "text": [
      "   fixed acidity  volatile acidity  citric acid  residual sugar  chlorides  \\\n",
      "0            7.4              0.70         0.00             1.9      0.076   \n",
      "1            7.8              0.88         0.00             2.6      0.098   \n",
      "2            7.8              0.76         0.04             2.3      0.092   \n",
      "3           11.2              0.28         0.56             1.9      0.075   \n",
      "4            7.4              0.70         0.00             1.9      0.076   \n",
      "\n",
      "   free sulfur dioxide  total sulfur dioxide  density    pH  sulphates  \\\n",
      "0                 11.0                  34.0   0.9978  3.51       0.56   \n",
      "1                 25.0                  67.0   0.9968  3.20       0.68   \n",
      "2                 15.0                  54.0   0.9970  3.26       0.65   \n",
      "3                 17.0                  60.0   0.9980  3.16       0.58   \n",
      "4                 11.0                  34.0   0.9978  3.51       0.56   \n",
      "\n",
      "   alcohol  quality  best quality  \n",
      "0      9.4        5             0  \n",
      "1      9.8        5             0  \n",
      "2      9.8        5             0  \n",
      "3      9.8        6             1  \n",
      "4      9.4        5             0  \n"
     ]
    }
   ],
   "source": [
    "print(df.head())"
   ]
  },
  {
   "cell_type": "markdown",
   "id": "8efd7236",
   "metadata": {},
   "source": [
    "# Model Training and hyperparameter tuning"
   ]
  },
  {
   "cell_type": "code",
   "execution_count": 24,
   "id": "6bab1a25-25b4-4a80-9792-81116ffa498f",
   "metadata": {},
   "outputs": [
    {
     "data": {
      "text/html": [
       "<style>#sk-container-id-1 {color: black;}#sk-container-id-1 pre{padding: 0;}#sk-container-id-1 div.sk-toggleable {background-color: white;}#sk-container-id-1 label.sk-toggleable__label {cursor: pointer;display: block;width: 100%;margin-bottom: 0;padding: 0.3em;box-sizing: border-box;text-align: center;}#sk-container-id-1 label.sk-toggleable__label-arrow:before {content: \"▸\";float: left;margin-right: 0.25em;color: #696969;}#sk-container-id-1 label.sk-toggleable__label-arrow:hover:before {color: black;}#sk-container-id-1 div.sk-estimator:hover label.sk-toggleable__label-arrow:before {color: black;}#sk-container-id-1 div.sk-toggleable__content {max-height: 0;max-width: 0;overflow: hidden;text-align: left;background-color: #f0f8ff;}#sk-container-id-1 div.sk-toggleable__content pre {margin: 0.2em;color: black;border-radius: 0.25em;background-color: #f0f8ff;}#sk-container-id-1 input.sk-toggleable__control:checked~div.sk-toggleable__content {max-height: 200px;max-width: 100%;overflow: auto;}#sk-container-id-1 input.sk-toggleable__control:checked~label.sk-toggleable__label-arrow:before {content: \"▾\";}#sk-container-id-1 div.sk-estimator input.sk-toggleable__control:checked~label.sk-toggleable__label {background-color: #d4ebff;}#sk-container-id-1 div.sk-label input.sk-toggleable__control:checked~label.sk-toggleable__label {background-color: #d4ebff;}#sk-container-id-1 input.sk-hidden--visually {border: 0;clip: rect(1px 1px 1px 1px);clip: rect(1px, 1px, 1px, 1px);height: 1px;margin: -1px;overflow: hidden;padding: 0;position: absolute;width: 1px;}#sk-container-id-1 div.sk-estimator {font-family: monospace;background-color: #f0f8ff;border: 1px dotted black;border-radius: 0.25em;box-sizing: border-box;margin-bottom: 0.5em;}#sk-container-id-1 div.sk-estimator:hover {background-color: #d4ebff;}#sk-container-id-1 div.sk-parallel-item::after {content: \"\";width: 100%;border-bottom: 1px solid gray;flex-grow: 1;}#sk-container-id-1 div.sk-label:hover label.sk-toggleable__label {background-color: #d4ebff;}#sk-container-id-1 div.sk-serial::before {content: \"\";position: absolute;border-left: 1px solid gray;box-sizing: border-box;top: 0;bottom: 0;left: 50%;z-index: 0;}#sk-container-id-1 div.sk-serial {display: flex;flex-direction: column;align-items: center;background-color: white;padding-right: 0.2em;padding-left: 0.2em;position: relative;}#sk-container-id-1 div.sk-item {position: relative;z-index: 1;}#sk-container-id-1 div.sk-parallel {display: flex;align-items: stretch;justify-content: center;background-color: white;position: relative;}#sk-container-id-1 div.sk-item::before, #sk-container-id-1 div.sk-parallel-item::before {content: \"\";position: absolute;border-left: 1px solid gray;box-sizing: border-box;top: 0;bottom: 0;left: 50%;z-index: -1;}#sk-container-id-1 div.sk-parallel-item {display: flex;flex-direction: column;z-index: 1;position: relative;background-color: white;}#sk-container-id-1 div.sk-parallel-item:first-child::after {align-self: flex-end;width: 50%;}#sk-container-id-1 div.sk-parallel-item:last-child::after {align-self: flex-start;width: 50%;}#sk-container-id-1 div.sk-parallel-item:only-child::after {width: 0;}#sk-container-id-1 div.sk-dashed-wrapped {border: 1px dashed gray;margin: 0 0.4em 0.5em 0.4em;box-sizing: border-box;padding-bottom: 0.4em;background-color: white;}#sk-container-id-1 div.sk-label label {font-family: monospace;font-weight: bold;display: inline-block;line-height: 1.2em;}#sk-container-id-1 div.sk-label-container {text-align: center;}#sk-container-id-1 div.sk-container {/* jupyter's `normalize.less` sets `[hidden] { display: none; }` but bootstrap.min.css set `[hidden] { display: none !important; }` so we also need the `!important` here to be able to override the default hidden behavior on the sphinx rendered scikit-learn.org. See: https://github.com/scikit-learn/scikit-learn/issues/21755 */display: inline-block !important;position: relative;}#sk-container-id-1 div.sk-text-repr-fallback {display: none;}</style><div id=\"sk-container-id-1\" class=\"sk-top-container\"><div class=\"sk-text-repr-fallback\"><pre>LogisticRegression(class_weight=&#x27;balanced&#x27;)</pre><b>In a Jupyter environment, please rerun this cell to show the HTML representation or trust the notebook. <br />On GitHub, the HTML representation is unable to render, please try loading this page with nbviewer.org.</b></div><div class=\"sk-container\" hidden><div class=\"sk-item\"><div class=\"sk-estimator sk-toggleable\"><input class=\"sk-toggleable__control sk-hidden--visually\" id=\"sk-estimator-id-1\" type=\"checkbox\" checked><label for=\"sk-estimator-id-1\" class=\"sk-toggleable__label sk-toggleable__label-arrow\">LogisticRegression</label><div class=\"sk-toggleable__content\"><pre>LogisticRegression(class_weight=&#x27;balanced&#x27;)</pre></div></div></div></div></div>"
      ],
      "text/plain": [
       "LogisticRegression(class_weight='balanced')"
      ]
     },
     "execution_count": 24,
     "metadata": {},
     "output_type": "execute_result"
    }
   ],
   "source": [
    "# Data processing and Model training for Logistic Regression\n",
    "solver='lbfgs'\n",
    "class_weight='balanced'\n",
    "model_logreg = LogisticRegression(solver=solver, multi_class ='auto', class_weight=class_weight)\n",
    "model_logreg.fit(X_train, y_train)"
   ]
  },
  {
   "cell_type": "code",
   "execution_count": 25,
   "id": "34525a9d-d20e-4cfa-bc4d-20c96bca9c38",
   "metadata": {},
   "outputs": [
    {
     "name": "stdout",
     "output_type": "stream",
     "text": [
      "Logistic Regression:\n",
      "Training Accuracy: 0.7334\n",
      "Validation Accuracy: 0.7844\n"
     ]
    }
   ],
   "source": [
    "# Calculate predictions\n",
    "train_preds = model_logreg.predict(X_train)\n",
    "val_preds = model_logreg.predict(X_test)\n",
    "\n",
    "\n",
    "print('Logistic Regression:')\n",
    "training_accuracy = metrics.accuracy_score(y_train, train_preds)\n",
    "val_accuracy=metrics.accuracy_score(y_test, val_preds)\n",
    "print(f'Training Accuracy: {training_accuracy:.4f}')\n",
    "print(f'Validation Accuracy: {val_accuracy:.4f}')"
   ]
  },
  {
   "cell_type": "code",
   "execution_count": 26,
   "id": "d94df544-89fa-4102-8f41-2412d7f458aa",
   "metadata": {},
   "outputs": [
    {
     "name": "stdout",
     "output_type": "stream",
     "text": [
      "The precision of the model: 78.44%\n"
     ]
    }
   ],
   "source": [
    "# Validation\n",
    "y_pred = model_logreg.predict(X_test)\n",
    "accuracy = accuracy_score(y_test, y_pred)\n",
    "print(\"The precision of the model: {:.2f}%\".format(accuracy * 100))"
   ]
  },
  {
   "cell_type": "code",
   "execution_count": 27,
   "id": "313880ff-be42-46a5-9888-b722b8756fa2",
   "metadata": {},
   "outputs": [
    {
     "ename": "NameError",
     "evalue": "name 'sb' is not defined",
     "output_type": "error",
     "traceback": [
      "\u001b[0;31m---------------------------------------------------------------------------\u001b[0m",
      "\u001b[0;31mNameError\u001b[0m                                 Traceback (most recent call last)",
      "\u001b[0;32m/tmp/ipykernel_10592/1523518726.py\u001b[0m in \u001b[0;36m<module>\u001b[0;34m\u001b[0m\n\u001b[1;32m      5\u001b[0m \u001b[0;31m# # Visualizing confusion matrix\u001b[0m\u001b[0;34m\u001b[0m\u001b[0;34m\u001b[0m\u001b[0m\n\u001b[1;32m      6\u001b[0m \u001b[0;34m\u001b[0m\u001b[0m\n\u001b[0;32m----> 7\u001b[0;31m \u001b[0msb\u001b[0m\u001b[0;34m.\u001b[0m\u001b[0mheatmap\u001b[0m\u001b[0;34m(\u001b[0m\u001b[0mconf_matrix\u001b[0m\u001b[0;34m,\u001b[0m \u001b[0mcmap\u001b[0m\u001b[0;34m=\u001b[0m\u001b[0;34m\"vlag\"\u001b[0m\u001b[0;34m,\u001b[0m \u001b[0mannot\u001b[0m\u001b[0;34m=\u001b[0m\u001b[0;32mTrue\u001b[0m\u001b[0;34m,\u001b[0m \u001b[0mfmt\u001b[0m\u001b[0;34m=\u001b[0m\u001b[0;34m'd'\u001b[0m\u001b[0;34m)\u001b[0m\u001b[0;34m\u001b[0m\u001b[0;34m\u001b[0m\u001b[0m\n\u001b[0m\u001b[1;32m      8\u001b[0m \u001b[0mplt\u001b[0m\u001b[0;34m.\u001b[0m\u001b[0mxlabel\u001b[0m\u001b[0;34m(\u001b[0m\u001b[0;34m'Predicted labels'\u001b[0m\u001b[0;34m)\u001b[0m\u001b[0;34m\u001b[0m\u001b[0;34m\u001b[0m\u001b[0m\n\u001b[1;32m      9\u001b[0m \u001b[0mplt\u001b[0m\u001b[0;34m.\u001b[0m\u001b[0mylabel\u001b[0m\u001b[0;34m(\u001b[0m\u001b[0;34m'True labels'\u001b[0m\u001b[0;34m)\u001b[0m\u001b[0;34m\u001b[0m\u001b[0;34m\u001b[0m\u001b[0m\n",
      "\u001b[0;31mNameError\u001b[0m: name 'sb' is not defined"
     ]
    }
   ],
   "source": [
    "# Defining confusion matrix\n",
    "\n",
    "conf_matrix = confusion_matrix(y_test, y_pred)\n",
    "\n",
    "# # Visualizing confusion matrix\n",
    "\n",
    "sb.heatmap(conf_matrix, cmap=\"vlag\", annot=True, fmt='d')\n",
    "plt.xlabel('Predicted labels')\n",
    "plt.ylabel('True labels')\n",
    "plt.show()"
   ]
  },
  {
   "cell_type": "code",
   "execution_count": 28,
   "id": "f0846991-5dcf-4592-a9a0-70161790c92b",
   "metadata": {},
   "outputs": [
    {
     "name": "stdout",
     "output_type": "stream",
     "text": [
      "              precision    recall  f1-score   support\n",
      "\n",
      "           0       0.75      0.80      0.77       147\n",
      "           1       0.82      0.77      0.80       173\n",
      "\n",
      "    accuracy                           0.78       320\n",
      "   macro avg       0.78      0.79      0.78       320\n",
      "weighted avg       0.79      0.78      0.78       320\n",
      "\n"
     ]
    }
   ],
   "source": [
    "# Print the classification report for the best performing model.\n",
    "print(metrics.classification_report(y_test,model_logreg.predict(X_test)))"
   ]
  },
  {
   "cell_type": "code",
   "execution_count": 29,
   "id": "1d63fc61-a50c-41fe-a5e4-08405b1cce3d",
   "metadata": {},
   "outputs": [
    {
     "name": "stderr",
     "output_type": "stream",
     "text": [
      "2025/01/17 14:24:49 INFO mlflow.tracking.fluent: Experiment with name 'wine quality classification' does not exist. Creating a new experiment.\n",
      "2025/01/17 14:24:54 WARNING mlflow.utils.requirements_utils: Found lz4 version (3.1.3+dfsg) contains a local version label (+dfsg). MLflow logged a pip requirement for this package as 'lz4==3.1.3' without the local version label to make it installable from PyPI. To specify pip requirements containing local version labels, please use `conda_env` or `pip_requirements`.\n",
      "Successfully registered model 'ElasticnetWineModel'.\n",
      "2025/01/17 14:24:55 INFO mlflow.tracking._model_registry.client: Waiting up to 300 seconds for model version to finish creation. Model name: ElasticnetWineModel, version 1\n",
      "Created version '1' of model 'ElasticnetWineModel'.\n"
     ]
    }
   ],
   "source": [
    "# Store Model and its dependencies on MLFlow\n",
    "# mlflow.set_tracking_uri(uri=\"http://mlflow-auth-tracon-xxiv-mbahmani-0.apps.ocp.solutioncenter-munich.de\")\n",
    "mlflow.set_tracking_uri(\"http://127.0.0.1:8080\")\n",
    "mlflow.set_experiment(\"wine quality classification\")\n",
    "with mlflow.start_run():\n",
    "    \n",
    "    # store model's parameters\n",
    "    mlflow.log_param(\"solver\", solver)\n",
    "    mlflow.log_param(\"class_weight\", class_weight)\n",
    "    \n",
    "    # store model's metrices\n",
    "    mlflow.log_metric(\"Training Accuracy\", training_accuracy)\n",
    "    mlflow.log_metric(\"Validation Accuracy\", val_accuracy)\n",
    "\n",
    "    # store model\n",
    "    mlflow.sklearn.log_model(\n",
    "        sk_model=model_logreg,\n",
    "        artifact_path=\"model_logreg\",\n",
    "        registered_model_name=\"ElasticnetWineModel\",\n",
    "    )"
   ]
  },
  {
   "cell_type": "code",
   "execution_count": 30,
   "id": "d3095006-04e2-4fe1-ba55-f4c00c896038",
   "metadata": {},
   "outputs": [
    {
     "name": "stdout",
     "output_type": "stream",
     "text": [
      "<class 'pandas.core.frame.DataFrame'>\n",
      "RangeIndex: 6 entries, 0 to 5\n",
      "Data columns (total 13 columns):\n",
      " #   Column                Non-Null Count  Dtype  \n",
      "---  ------                --------------  -----  \n",
      " 0   fixed acidity         6 non-null      float64\n",
      " 1   volatile acidity      6 non-null      float64\n",
      " 2   citric acid           6 non-null      float64\n",
      " 3   residual sugar        6 non-null      float64\n",
      " 4   chlorides             6 non-null      float64\n",
      " 5   free sulfur dioxide   6 non-null      int64  \n",
      " 6   total sulfur dioxide  6 non-null      int64  \n",
      " 7   density               6 non-null      float64\n",
      " 8   pH                    6 non-null      float64\n",
      " 9   sulphates             6 non-null      float64\n",
      " 10  alcohol               6 non-null      float64\n",
      " 11  quality               6 non-null      int64  \n",
      " 12  best quality          6 non-null      int64  \n",
      "dtypes: float64(9), int64(4)\n",
      "memory usage: 752.0 bytes\n"
     ]
    }
   ],
   "source": [
    "# Test Model Performance on 6 data points\n",
    "df_test = pd.read_csv('winequality-red-test.csv')\n",
    "df_test['best quality'] = [1 if x > 5 else 0 for x in df_test.quality]\n",
    "#print(df_test.head())\n",
    "df_test.info()"
   ]
  },
  {
   "cell_type": "code",
   "execution_count": 31,
   "id": "8cbc1f91-781b-4ae6-a0c7-537232df680d",
   "metadata": {},
   "outputs": [
    {
     "name": "stdout",
     "output_type": "stream",
     "text": [
      "   Predicted Class  Actual Class\n",
      "0                0             0\n",
      "1                1             0\n",
      "2                0             0\n",
      "3                1             1\n",
      "4                1             1\n",
      "5                1             1\n"
     ]
    }
   ],
   "source": [
    "df_test_input = df_test.drop(['quality', 'best quality'], axis=1)\n",
    "\n",
    "# Get the actual class of six input example\n",
    "df_test_actual_class = df_test['best quality']\n",
    "\n",
    "actual_class_test = pd.Series(df_test_actual_class)\n",
    "#print(actual_class_test)\n",
    "\n",
    "# Use the trained model to predict the class of six input example\n",
    "prediction_class_test = pd.DataFrame(model_logreg.predict(df_test_input))\n",
    "#print(prediction_class_test)\n",
    "#model_testing_output = model_logreg.predict(df_test_input), columns=['Input ID','Predicted Class'])\n",
    "\n",
    "# Put these information together\n",
    "model_output = pd.concat([prediction_class_test, actual_class_test], axis=1, ignore_index=True)\n",
    "\n",
    "#model_output.info()\n",
    "model_output = model_output.set_axis(['Predicted Class', 'Actual Class'], axis='columns')\n",
    "#model_output.info()\n",
    "\n",
    "print(model_output)\n"
   ]
  },
  {
   "cell_type": "code",
   "execution_count": 32,
   "id": "fcc69f73-af9d-4f3b-9445-21e57f67c60e",
   "metadata": {},
   "outputs": [
    {
     "data": {
      "text/plain": [
       "'{\"columns\":[\"fixed acidity\",\"volatile acidity\",\"citric acid\",\"residual sugar\",\"chlorides\",\"free sulfur dioxide\",\"total sulfur dioxide\",\"density\",\"pH\",\"sulphates\",\"alcohol\"],\"index\":[0,1,2,3,4,5],\"data\":[[7.1,0.875,0.05,5.7,0.082,3,14,0.99808,3.4,0.52,10.2],[8.5,0.4,0.4,6.3,0.05,3,10,0.99566,3.28,0.56,12.0],[7.5,0.4,0.18,1.6,0.079,24,58,0.9965,3.34,0.58,9.4],[6.7,0.46,0.24,1.7,0.077,18,34,0.9948,3.39,0.6,10.6],[7.3,0.34,0.33,2.5,0.064,21,37,0.9952,3.35,0.77,12.1],[7.4,0.36,0.3,1.8,0.074,17,24,0.99419,3.24,0.7,11.4]]}'"
      ]
     },
     "execution_count": 32,
     "metadata": {},
     "output_type": "execute_result"
    }
   ],
   "source": [
    "df_test_input.to_json(orient ='split')"
   ]
  },
  {
   "cell_type": "code",
   "execution_count": 33,
   "id": "6b003302-a2de-4b3c-ab4b-3d77a80cd0b4",
   "metadata": {},
   "outputs": [
    {
     "data": {
      "text/plain": [
       "'[[7.1,0.875,0.05,5.7,0.082,3,14,0.99808,3.4,0.52,10.2],[8.5,0.4,0.4,6.3,0.05,3,10,0.99566,3.28,0.56,12.0],[7.5,0.4,0.18,1.6,0.079,24,58,0.9965,3.34,0.58,9.4],[6.7,0.46,0.24,1.7,0.077,18,34,0.9948,3.39,0.6,10.6],[7.3,0.34,0.33,2.5,0.064,21,37,0.9952,3.35,0.77,12.1],[7.4,0.36,0.3,1.8,0.074,17,24,0.99419,3.24,0.7,11.4]]'"
      ]
     },
     "execution_count": 33,
     "metadata": {},
     "output_type": "execute_result"
    }
   ],
   "source": [
    "df_test_input.to_json(orient ='values')"
   ]
  },
  {
   "cell_type": "code",
   "execution_count": null,
   "id": "6198a65d-1fbc-42fb-8de7-67cc538362d3",
   "metadata": {},
   "outputs": [],
   "source": []
  },
  {
   "cell_type": "code",
   "execution_count": null,
   "id": "a65cb7d8-8804-4376-b963-908c3e49941d",
   "metadata": {},
   "outputs": [],
   "source": []
  }
 ],
 "metadata": {
  "kernelspec": {
   "display_name": ".venv",
   "language": "python",
   "name": "python3"
  },
  "language_info": {
   "codemirror_mode": {
    "name": "ipython",
    "version": 3
   },
   "file_extension": ".py",
   "mimetype": "text/x-python",
   "name": "python",
   "nbconvert_exporter": "python",
   "pygments_lexer": "ipython3",
   "version": "3.9.4"
  }
 },
 "nbformat": 4,
 "nbformat_minor": 5
}
