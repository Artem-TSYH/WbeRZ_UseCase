{
 "cells": [
  {
   "cell_type": "code",
   "execution_count": 30,
   "id": "3b9c6450-b2d6-4af4-a93e-974432263583",
   "metadata": {},
   "outputs": [
    {
     "name": "stdout",
     "output_type": "stream",
     "text": [
      "/usr/lib/python3/dist-packages/scipy/__init__.py:146: UserWarning: A NumPy version >=1.17.3 and <1.25.0 is required for this version of SciPy (detected version 1.25.0\n",
      "  warnings.warn(f\"A NumPy version >={np_minversion} and <{np_maxversion}\"\n",
      "Elasticnet model (alpha=0.400000, l1_ratio=0.400000):\n",
      "  RMSE: 0.7644619587468349\n",
      "  MAE: 0.5966303605775048\n",
      "  R2: 0.17197111491474282\n",
      "2024/07/25 12:52:59 WARNING mlflow.utils.requirements_utils: Found lz4 version (3.1.3+dfsg) contains a local version label (+dfsg). MLflow logged a pip requirement for this package as 'lz4==3.1.3' without the local version label to make it installable from PyPI. To specify pip requirements containing local version labels, please use `conda_env` or `pip_requirements`.\n",
      "Registered model 'ElasticnetWineModel' already exists. Creating a new version of this model...\n",
      "2024/07/25 12:52:59 INFO mlflow.tracking._model_registry.client: Waiting up to 300 seconds for model version to finish creation. Model name: ElasticnetWineModel, version 2\n",
      "Created version '2' of model 'ElasticnetWineModel'.\n"
     ]
    }
   ],
   "source": [
    "!python3 src/train.py"
   ]
  },
  {
   "cell_type": "code",
   "execution_count": 29,
   "id": "ed23c49a-6aa1-422f-b30f-506b27d924e7",
   "metadata": {},
   "outputs": [
    {
     "name": "stdout",
     "output_type": "stream",
     "text": [
      "/usr/lib/python3/dist-packages/scipy/__init__.py:146: UserWarning: A NumPy version >=1.17.3 and <1.25.0 is required for this version of SciPy (detected version 1.25.0\n",
      "  warnings.warn(f\"A NumPy version >={np_minversion} and <{np_maxversion}\"\n",
      "2024/07/25 12:50:36 INFO mlflow.tracking.fluent: Experiment with name 'wine quality - trainin and validation/testing accuracy' does not exist. Creating a new experiment.\n",
      "Elasticnet model (alpha=0.700000, l1_ratio=0.200000):\n",
      "  RMSE: 0.7700845840888665\n",
      "  MAE: 0.6024685725504659\n",
      "  R2: 0.15974600028150265\n",
      "2024/07/25 12:50:40 WARNING mlflow.utils.requirements_utils: Found lz4 version (3.1.3+dfsg) contains a local version label (+dfsg). MLflow logged a pip requirement for this package as 'lz4==3.1.3' without the local version label to make it installable from PyPI. To specify pip requirements containing local version labels, please use `conda_env` or `pip_requirements`.\n",
      "Successfully registered model 'ElasticnetWineModel'.\n",
      "2024/07/25 12:50:41 INFO mlflow.tracking._model_registry.client: Waiting up to 300 seconds for model version to finish creation. Model name: ElasticnetWineModel, version 1\n",
      "Created version '1' of model 'ElasticnetWineModel'.\n"
     ]
    }
   ],
   "source": [
    "!python3 src/train.py"
   ]
  },
  {
   "cell_type": "code",
   "execution_count": 16,
   "id": "c6b4f7ab-5884-4c56-9ed2-f2d58f8f855d",
   "metadata": {},
   "outputs": [
    {
     "name": "stdout",
     "output_type": "stream",
     "text": [
      "/usr/lib/python3/dist-packages/scipy/__init__.py:146: UserWarning: A NumPy version >=1.17.3 and <1.25.0 is required for this version of SciPy (detected version 1.25.0\n",
      "  warnings.warn(f\"A NumPy version >={np_minversion} and <{np_maxversion}\"\n",
      "Elasticnet model (alpha=0.200000, l1_ratio=0.200000):\n",
      "  RMSE: 0.7336400911821402\n",
      "  MAE: 0.5643841279275428\n",
      "  R2: 0.23739466063584158\n",
      "2024/07/23 17:16:59 WARNING mlflow.utils.requirements_utils: Found lz4 version (3.1.3+dfsg) contains a local version label (+dfsg). MLflow logged a pip requirement for this package as 'lz4==3.1.3' without the local version label to make it installable from PyPI. To specify pip requirements containing local version labels, please use `conda_env` or `pip_requirements`.\n",
      "Registered model 'ElasticnetWineModel' already exists. Creating a new version of this model...\n",
      "2024/07/23 17:16:59 INFO mlflow.tracking._model_registry.client: Waiting up to 300 seconds for model version to finish creation. Model name: ElasticnetWineModel, version 3\n",
      "Created version '3' of model 'ElasticnetWineModel'.\n"
     ]
    }
   ],
   "source": [
    "!python3 src/train.py"
   ]
  },
  {
   "cell_type": "code",
   "execution_count": 32,
   "id": "f23cdee5-51fd-4582-b60a-eb314e5b050b",
   "metadata": {},
   "outputs": [
    {
     "name": "stdout",
     "output_type": "stream",
     "text": [
      "/usr/lib/python3/dist-packages/scipy/__init__.py:146: UserWarning: A NumPy version >=1.17.3 and <1.25.0 is required for this version of SciPy (detected version 1.25.0\n",
      "  warnings.warn(f\"A NumPy version >={np_minversion} and <{np_maxversion}\"\n",
      "Traceback (most recent call last):\n",
      "  File \"/mnt/d/Projekts/MLOps/WbeRZ_UseCase/src/train.py\", line 57, in <module>\n",
      "    data = pd.read_csv(winequality-red.csv, sep=\";\")\n",
      "NameError: name 'winequality' is not defined\n"
     ]
    }
   ],
   "source": [
    "!python3 src/train.py"
   ]
  },
  {
   "cell_type": "code",
   "execution_count": 38,
   "id": "f5639758-1d77-475d-87da-6787a1b5e8f5",
   "metadata": {},
   "outputs": [
    {
     "name": "stderr",
     "output_type": "stream",
     "text": [
      "352053.37s - pydevd: Sending message related to process being replaced timed-out after 5 seconds\n",
      "352058.49s - pydevd: Sending message related to process being replaced timed-out after 5 seconds\n"
     ]
    }
   ],
   "source": [
    "!export MLFLOW_TRACKING_USERNAME=user\n",
    "!export MLFLOW_TRACKING_PASSWORD=user"
   ]
  },
  {
   "cell_type": "code",
   "execution_count": 39,
   "id": "50db5ddc-1fb1-4c0b-ba99-fd15284fe3e9",
   "metadata": {},
   "outputs": [
    {
     "name": "stderr",
     "output_type": "stream",
     "text": [
      "352072.38s - pydevd: Sending message related to process being replaced timed-out after 5 seconds\n"
     ]
    },
    {
     "name": "stdout",
     "output_type": "stream",
     "text": [
      "/usr/lib/python3/dist-packages/scipy/__init__.py:146: UserWarning: A NumPy version >=1.17.3 and <1.25.0 is required for this version of SciPy (detected version 1.25.0\n",
      "  warnings.warn(f\"A NumPy version >={np_minversion} and <{np_maxversion}\"\n",
      "WARNING:urllib3.connectionpool:Retrying (Retry(total=4, connect=4, read=5, redirect=5, status=5)) after connection broken by 'NewConnectionError('<urllib3.connection.HTTPConnection object at 0x7f0d07c98820>: Failed to establish a new connection: [Errno -3] Temporary failure in name resolution')': /api/2.0/mlflow/experiments/get-by-name?experiment_name=wine+quality+-+trainin+and+validation%2Ftesting+accuracy\n",
      "WARNING:urllib3.connectionpool:Retrying (Retry(total=3, connect=3, read=5, redirect=5, status=5)) after connection broken by 'NewConnectionError('<urllib3.connection.HTTPConnection object at 0x7f0d07a0f880>: Failed to establish a new connection: [Errno -3] Temporary failure in name resolution')': /api/2.0/mlflow/experiments/get-by-name?experiment_name=wine+quality+-+trainin+and+validation%2Ftesting+accuracy\n",
      "WARNING:urllib3.connectionpool:Retrying (Retry(total=2, connect=2, read=5, redirect=5, status=5)) after connection broken by 'NewConnectionError('<urllib3.connection.HTTPConnection object at 0x7f0d07a0f790>: Failed to establish a new connection: [Errno -3] Temporary failure in name resolution')': /api/2.0/mlflow/experiments/get-by-name?experiment_name=wine+quality+-+trainin+and+validation%2Ftesting+accuracy\n",
      "WARNING:urllib3.connectionpool:Retrying (Retry(total=1, connect=1, read=5, redirect=5, status=5)) after connection broken by 'NewConnectionError('<urllib3.connection.HTTPConnection object at 0x7f0d07a0fac0>: Failed to establish a new connection: [Errno -3] Temporary failure in name resolution')': /api/2.0/mlflow/experiments/get-by-name?experiment_name=wine+quality+-+trainin+and+validation%2Ftesting+accuracy\n",
      "WARNING:urllib3.connectionpool:Retrying (Retry(total=0, connect=0, read=5, redirect=5, status=5)) after connection broken by 'NewConnectionError('<urllib3.connection.HTTPConnection object at 0x7f0d07a0fb20>: Failed to establish a new connection: [Errno -3] Temporary failure in name resolution')': /api/2.0/mlflow/experiments/get-by-name?experiment_name=wine+quality+-+trainin+and+validation%2Ftesting+accuracy\n",
      "Traceback (most recent call last):\n",
      "  File \"/home/mohammad/.local/lib/python3.10/site-packages/urllib3/connection.py\", line 174, in _new_conn\n",
      "    conn = connection.create_connection(\n",
      "  File \"/home/mohammad/.local/lib/python3.10/site-packages/urllib3/util/connection.py\", line 72, in create_connection\n",
      "    for res in socket.getaddrinfo(host, port, family, socket.SOCK_STREAM):\n",
      "  File \"/usr/lib/python3.10/socket.py\", line 955, in getaddrinfo\n",
      "    for res in _socket.getaddrinfo(host, port, family, type, proto, flags):\n",
      "socket.gaierror: [Errno -3] Temporary failure in name resolution\n",
      "\n",
      "During handling of the above exception, another exception occurred:\n",
      "\n",
      "Traceback (most recent call last):\n",
      "  File \"/home/mohammad/.local/lib/python3.10/site-packages/urllib3/connectionpool.py\", line 714, in urlopen\n",
      "    httplib_response = self._make_request(\n",
      "  File \"/home/mohammad/.local/lib/python3.10/site-packages/urllib3/connectionpool.py\", line 415, in _make_request\n",
      "    conn.request(method, url, **httplib_request_kw)\n",
      "  File \"/home/mohammad/.local/lib/python3.10/site-packages/urllib3/connection.py\", line 244, in request\n",
      "    super(HTTPConnection, self).request(method, url, body=body, headers=headers)\n",
      "  File \"/usr/lib/python3.10/http/client.py\", line 1282, in request\n",
      "    self._send_request(method, url, body, headers, encode_chunked)\n",
      "  File \"/usr/lib/python3.10/http/client.py\", line 1328, in _send_request\n",
      "    self.endheaders(body, encode_chunked=encode_chunked)\n",
      "  File \"/usr/lib/python3.10/http/client.py\", line 1277, in endheaders\n",
      "    self._send_output(message_body, encode_chunked=encode_chunked)\n",
      "  File \"/usr/lib/python3.10/http/client.py\", line 1037, in _send_output\n",
      "    self.send(msg)\n",
      "  File \"/usr/lib/python3.10/http/client.py\", line 975, in send\n",
      "    self.connect()\n",
      "  File \"/home/mohammad/.local/lib/python3.10/site-packages/urllib3/connection.py\", line 205, in connect\n",
      "    conn = self._new_conn()\n",
      "  File \"/home/mohammad/.local/lib/python3.10/site-packages/urllib3/connection.py\", line 186, in _new_conn\n",
      "    raise NewConnectionError(\n",
      "urllib3.exceptions.NewConnectionError: <urllib3.connection.HTTPConnection object at 0x7f0d07a0dd80>: Failed to establish a new connection: [Errno -3] Temporary failure in name resolution\n",
      "\n",
      "During handling of the above exception, another exception occurred:\n",
      "\n",
      "Traceback (most recent call last):\n",
      "  File \"/home/mohammad/.local/lib/python3.10/site-packages/requests/adapters.py\", line 486, in send\n",
      "    resp = conn.urlopen(\n",
      "  File \"/home/mohammad/.local/lib/python3.10/site-packages/urllib3/connectionpool.py\", line 826, in urlopen\n",
      "    return self.urlopen(\n",
      "  File \"/home/mohammad/.local/lib/python3.10/site-packages/urllib3/connectionpool.py\", line 826, in urlopen\n",
      "    return self.urlopen(\n",
      "  File \"/home/mohammad/.local/lib/python3.10/site-packages/urllib3/connectionpool.py\", line 826, in urlopen\n",
      "    return self.urlopen(\n",
      "  [Previous line repeated 2 more times]\n",
      "  File \"/home/mohammad/.local/lib/python3.10/site-packages/urllib3/connectionpool.py\", line 798, in urlopen\n",
      "    retries = retries.increment(\n",
      "  File \"/home/mohammad/.local/lib/python3.10/site-packages/urllib3/util/retry.py\", line 592, in increment\n",
      "    raise MaxRetryError(_pool, url, error or ResponseError(cause))\n",
      "urllib3.exceptions.MaxRetryError: HTTPConnectionPool(host='mlflow-auth-tracon-xxiv-mbahmani-0.apps.ocp.solutioncenter-munich.de', port=80): Max retries exceeded with url: /api/2.0/mlflow/experiments/get-by-name?experiment_name=wine+quality+-+trainin+and+validation%2Ftesting+accuracy (Caused by NewConnectionError('<urllib3.connection.HTTPConnection object at 0x7f0d07a0dd80>: Failed to establish a new connection: [Errno -3] Temporary failure in name resolution'))\n",
      "\n",
      "During handling of the above exception, another exception occurred:\n",
      "\n",
      "Traceback (most recent call last):\n",
      "  File \"/home/mohammad/.local/lib/python3.10/site-packages/mlflow/utils/rest_utils.py\", line 93, in http_request\n",
      "    return _get_http_response_with_retries(\n",
      "  File \"/home/mohammad/.local/lib/python3.10/site-packages/mlflow/utils/request_utils.py\", line 131, in _get_http_response_with_retries\n",
      "    return session.request(method, url, **kwargs)\n",
      "  File \"/home/mohammad/.local/lib/python3.10/site-packages/requests/sessions.py\", line 589, in request\n",
      "    resp = self.send(prep, **send_kwargs)\n",
      "  File \"/home/mohammad/.local/lib/python3.10/site-packages/requests/sessions.py\", line 703, in send\n",
      "    r = adapter.send(request, **kwargs)\n",
      "  File \"/home/mohammad/.local/lib/python3.10/site-packages/requests/adapters.py\", line 519, in send\n",
      "    raise ConnectionError(e, request=request)\n",
      "requests.exceptions.ConnectionError: HTTPConnectionPool(host='mlflow-auth-tracon-xxiv-mbahmani-0.apps.ocp.solutioncenter-munich.de', port=80): Max retries exceeded with url: /api/2.0/mlflow/experiments/get-by-name?experiment_name=wine+quality+-+trainin+and+validation%2Ftesting+accuracy (Caused by NewConnectionError('<urllib3.connection.HTTPConnection object at 0x7f0d07a0dd80>: Failed to establish a new connection: [Errno -3] Temporary failure in name resolution'))\n",
      "\n",
      "During handling of the above exception, another exception occurred:\n",
      "\n",
      "Traceback (most recent call last):\n",
      "  File \"/mnt/d/Projekts/MLOps/WbeRZ_UseCase/src/train.py\", line 72, in <module>\n",
      "    mlflow.set_experiment(\"wine quality - trainin and validation/testing accuracy\")\n",
      "  File \"/home/mohammad/.local/lib/python3.10/site-packages/mlflow/tracking/fluent.py\", line 129, in set_experiment\n",
      "    experiment = client.get_experiment_by_name(experiment_name)\n",
      "  File \"/home/mohammad/.local/lib/python3.10/site-packages/mlflow/tracking/client.py\", line 507, in get_experiment_by_name\n",
      "    return self._tracking_client.get_experiment_by_name(name)\n",
      "  File \"/home/mohammad/.local/lib/python3.10/site-packages/mlflow/tracking/_tracking_service/client.py\", line 222, in get_experiment_by_name\n",
      "    return self.store.get_experiment_by_name(name)\n",
      "  File \"/home/mohammad/.local/lib/python3.10/site-packages/mlflow/store/tracking/rest_store.py\", line 307, in get_experiment_by_name\n",
      "    response_proto = self._call_endpoint(GetExperimentByName, req_body)\n",
      "  File \"/home/mohammad/.local/lib/python3.10/site-packages/mlflow/store/tracking/rest_store.py\", line 59, in _call_endpoint\n",
      "    return call_endpoint(self.get_host_creds(), endpoint, method, json_body, response_proto)\n",
      "  File \"/home/mohammad/.local/lib/python3.10/site-packages/mlflow/utils/rest_utils.py\", line 199, in call_endpoint\n",
      "    response = http_request(**call_kwargs)\n",
      "  File \"/home/mohammad/.local/lib/python3.10/site-packages/mlflow/utils/rest_utils.py\", line 113, in http_request\n",
      "    raise MlflowException(f\"API request to {url} failed with exception {e}\")\n",
      "mlflow.exceptions.MlflowException: API request to http://mlflow-auth-tracon-xxiv-mbahmani-0.apps.ocp.solutioncenter-munich.de/api/2.0/mlflow/experiments/get-by-name failed with exception HTTPConnectionPool(host='mlflow-auth-tracon-xxiv-mbahmani-0.apps.ocp.solutioncenter-munich.de', port=80): Max retries exceeded with url: /api/2.0/mlflow/experiments/get-by-name?experiment_name=wine+quality+-+trainin+and+validation%2Ftesting+accuracy (Caused by NewConnectionError('<urllib3.connection.HTTPConnection object at 0x7f0d07a0dd80>: Failed to establish a new connection: [Errno -3] Temporary failure in name resolution'))\n"
     ]
    }
   ],
   "source": [
    "!python3 src/train.py"
   ]
  },
  {
   "cell_type": "code",
   "execution_count": 2,
   "id": "068f6309-62fb-49db-add7-aa1d69059dd6",
   "metadata": {},
   "outputs": [
    {
     "name": "stdout",
     "output_type": "stream",
     "text": [
      "ls: cannot access './mlruns/0/*': No such file or directory/artifacts/model\n"
     ]
    }
   ],
   "source": [
    "import os\n",
    "\n",
    "[experiment_file_path] = !ls -td ./mlruns/0/* | head -1\n",
    "model_path = os.path.join(experiment_file_path, \"artifacts\", \"model\")\n",
    "print(model_path)"
   ]
  },
  {
   "cell_type": "code",
   "execution_count": 4,
   "id": "f01f313b-6209-4c2f-9b6d-5e6b3a32ffba",
   "metadata": {},
   "outputs": [],
   "source": [
    "from IPython.core.magic import register_line_cell_magic\n",
    "\n",
    "@register_line_cell_magic\n",
    "def writetemplate(line, cell):\n",
    "    with open(line, 'w') as f:\n",
    "        f.write(cell.format(**globals()))"
   ]
  },
  {
   "cell_type": "code",
   "execution_count": 12,
   "id": "a8bc5ba7-a828-4a62-824a-5bff543a7055",
   "metadata": {},
   "outputs": [],
   "source": [
    "%%writetemplate ./model-settings.json\n",
    "{{\n",
    "    \"name\": \"wine-classifier\",\n",
    "    \"implementation\": \"mlserver_mlflow.MLflowRuntime\",\n",
    "    \"parameters\": {{\n",
    "        \"uri\": \"{model_path}\"\n",
    "    }}\n",
    "}}"
   ]
  },
  {
   "cell_type": "code",
   "execution_count": 6,
   "id": "3fb65ccb-2fc5-4fd7-8b2c-a74f5b772985",
   "metadata": {},
   "outputs": [
    {
     "name": "stdout",
     "output_type": "stream",
     "text": [
      "/mnt/d/Projekts/MLOps/py_ml_3_10_6/lib/python3.10/site-packages/pydantic/_internal/_config.py:322: UserWarning: Valid config keys have changed in V2:\n",
      "* 'schema_extra' has been renamed to 'json_schema_extra'\n",
      "  warnings.warn(message, UserWarning)\n",
      "Traceback (most recent call last):\n",
      "  File \"/mnt/d/Projekts/MLOps/py_ml_3_10_6/bin/mlflow\", line 8, in <module>\n",
      "    sys.exit(cli())\n",
      "  File \"/mnt/d/Projekts/MLOps/py_ml_3_10_6/lib/python3.10/site-packages/click/core.py\", line 1157, in __call__\n",
      "    return self.main(*args, **kwargs)\n",
      "  File \"/mnt/d/Projekts/MLOps/py_ml_3_10_6/lib/python3.10/site-packages/click/core.py\", line 1078, in main\n",
      "    rv = self.invoke(ctx)\n",
      "  File \"/mnt/d/Projekts/MLOps/py_ml_3_10_6/lib/python3.10/site-packages/click/core.py\", line 1688, in invoke\n",
      "    return _process_result(sub_ctx.command.invoke(sub_ctx))\n",
      "  File \"/mnt/d/Projekts/MLOps/py_ml_3_10_6/lib/python3.10/site-packages/click/core.py\", line 1688, in invoke\n",
      "    return _process_result(sub_ctx.command.invoke(sub_ctx))\n",
      "  File \"/mnt/d/Projekts/MLOps/py_ml_3_10_6/lib/python3.10/site-packages/click/core.py\", line 1434, in invoke\n",
      "    return ctx.invoke(self.callback, **ctx.params)\n",
      "  File \"/mnt/d/Projekts/MLOps/py_ml_3_10_6/lib/python3.10/site-packages/click/core.py\", line 783, in invoke\n",
      "    return __callback(*args, **kwargs)\n",
      "  File \"/mnt/d/Projekts/MLOps/py_ml_3_10_6/lib/python3.10/site-packages/mlflow/models/cli.py\", line 104, in serve\n",
      "    return get_flavor_backend(\n",
      "  File \"/mnt/d/Projekts/MLOps/py_ml_3_10_6/lib/python3.10/site-packages/mlflow/models/flavor_backend_registry.py\", line 41, in get_flavor_backend\n",
      "    underlying_model_uri = ModelsArtifactRepository.get_underlying_uri(model_uri)\n",
      "  File \"/mnt/d/Projekts/MLOps/py_ml_3_10_6/lib/python3.10/site-packages/mlflow/store/artifact/models_artifact_repo.py\", line 104, in get_underlying_uri\n",
      "    _, _, underlying_uri = ModelsArtifactRepository._get_model_uri_infos(uri)\n",
      "  File \"/mnt/d/Projekts/MLOps/py_ml_3_10_6/lib/python3.10/site-packages/mlflow/store/artifact/models_artifact_repo.py\", line 94, in _get_model_uri_infos\n",
      "    download_uri = client.get_model_version_download_uri(name, version)\n",
      "  File \"/mnt/d/Projekts/MLOps/py_ml_3_10_6/lib/python3.10/site-packages/mlflow/tracking/client.py\", line 3246, in get_model_version_download_uri\n",
      "    return self._get_registry_client().get_model_version_download_uri(name, version)\n",
      "  File \"/mnt/d/Projekts/MLOps/py_ml_3_10_6/lib/python3.10/site-packages/mlflow/tracking/_model_registry/client.py\", line 316, in get_model_version_download_uri\n",
      "    return self.store.get_model_version_download_uri(name, version)\n",
      "  File \"/mnt/d/Projekts/MLOps/py_ml_3_10_6/lib/python3.10/site-packages/mlflow/store/model_registry/file_store.py\", line 817, in get_model_version_download_uri\n",
      "    model_version = self._fetch_file_model_version_if_exists(name, version)\n",
      "  File \"/mnt/d/Projekts/MLOps/py_ml_3_10_6/lib/python3.10/site-packages/mlflow/store/model_registry/file_store.py\", line 777, in _fetch_file_model_version_if_exists\n",
      "    registered_model_version_dir = self._get_model_version_dir(name, version)\n",
      "  File \"/mnt/d/Projekts/MLOps/py_ml_3_10_6/lib/python3.10/site-packages/mlflow/store/model_registry/file_store.py\", line 555, in _get_model_version_dir\n",
      "    raise MlflowException(\n",
      "mlflow.exceptions.MlflowException: Registered Model with name=ElasticnetWineModel not found\n"
     ]
    }
   ],
   "source": [
    "!mlflow models serve --model-uri \"models:/ElasticnetWineModel/2\"  -p 8080 --no-conda"
   ]
  },
  {
   "cell_type": "code",
   "execution_count": 7,
   "id": "7366e6eb-685b-40b8-b9b0-d02537a6f2b0",
   "metadata": {},
   "outputs": [
    {
     "name": "stdout",
     "output_type": "stream",
     "text": [
      "Python 3.10.6\n"
     ]
    }
   ],
   "source": [
    "!python3 --version"
   ]
  },
  {
   "cell_type": "code",
   "execution_count": 8,
   "id": "df3af72e-a93a-4661-b138-326f6d86f446",
   "metadata": {},
   "outputs": [
    {
     "name": "stdout",
     "output_type": "stream",
     "text": [
      "\"2.14.3\""
     ]
    }
   ],
   "source": [
    "!curl http://mlflow-model-opt-model-api.apps.cluster-tdb7n.tdb7n.sandbox2943.opentlc.com/version"
   ]
  },
  {
   "cell_type": "code",
   "execution_count": 27,
   "id": "d9d4521f-033a-4bd3-ad17-f8b650bcdc71",
   "metadata": {},
   "outputs": [
    {
     "data": {
      "text/plain": [
       "{'predictions': [5.576883967129615]}"
      ]
     },
     "execution_count": 27,
     "metadata": {},
     "output_type": "execute_result"
    }
   ],
   "source": [
    "import requests\n",
    "\n",
    "inference_request = {\n",
    "    \"dataframe_split\": {\n",
    "        \"columns\": [\n",
    "            \"fixed acidity\",\n",
    "            \"volatile acidity\",\n",
    "            \"citric acid\",\n",
    "            \"residual sugar\",\n",
    "            \"chlorides\",\n",
    "            \"free sulfur dioxide\",\n",
    "            \"total sulfur dioxide\",\n",
    "            \"density\",\n",
    "            \"pH\",\n",
    "            \"sulphates\",\n",
    "            \"alcohol\",\n",
    "        ],\n",
    "        \"data\": [[7.4,0.7,0,1.9,0.076,11,34,0.9978,3.51,0.56,9.4]]\n",
    "    }\n",
    "}\n",
    "\n",
    "endpoint = \"http://mlflow-model-opt-model-api.apps.cluster-tdb7n.tdb7n.sandbox2943.opentlc.com/invocations\"\n",
    "response = requests.post(endpoint, json=inference_request)\n",
    "\n",
    "response.json()"
   ]
  },
  {
   "cell_type": "code",
   "execution_count": 11,
   "id": "7f731b40-c484-4103-a736-65dea93bda1d",
   "metadata": {},
   "outputs": [
    {
     "data": {
      "text/plain": [
       "{'model_name': 'wine-classifier',\n",
       " 'model_version': 'cc59fe01b30241d4ac5cb10c843ce3a4',\n",
       " 'id': 'c996a4a0-bc6c-4e39-858c-31d0a675987c',\n",
       " 'parameters': {'content_type': 'np'},\n",
       " 'outputs': [{'name': 'output-1',\n",
       "   'shape': [1, 1],\n",
       "   'datatype': 'FP64',\n",
       "   'parameters': {'content_type': 'np'},\n",
       "   'data': [5.576883936610762]}]}"
      ]
     },
     "execution_count": 11,
     "metadata": {},
     "output_type": "execute_result"
    }
   ],
   "source": [
    "import requests\n",
    "\n",
    "inference_request = {\n",
    "    \"inputs\": [\n",
    "        {\n",
    "          \"name\": \"fixed acidity\",\n",
    "          \"shape\": [1],\n",
    "          \"datatype\": \"FP32\",\n",
    "          \"data\": [7.4],\n",
    "        },\n",
    "        {\n",
    "          \"name\": \"volatile acidity\",\n",
    "          \"shape\": [1],\n",
    "          \"datatype\": \"FP32\",\n",
    "          \"data\": [0.7000],\n",
    "        },\n",
    "        {\n",
    "          \"name\": \"citric acid\",\n",
    "          \"shape\": [1],\n",
    "          \"datatype\": \"FP32\",\n",
    "          \"data\": [0],\n",
    "        },\n",
    "        {\n",
    "          \"name\": \"residual sugar\",\n",
    "          \"shape\": [1],\n",
    "          \"datatype\": \"FP32\",\n",
    "          \"data\": [1.9],\n",
    "        },\n",
    "        {\n",
    "          \"name\": \"chlorides\",\n",
    "          \"shape\": [1],\n",
    "          \"datatype\": \"FP32\",\n",
    "          \"data\": [0.076],\n",
    "        },\n",
    "        {\n",
    "          \"name\": \"free sulfur dioxide\",\n",
    "          \"shape\": [1],\n",
    "          \"datatype\": \"FP32\",\n",
    "          \"data\": [11],\n",
    "        },\n",
    "        {\n",
    "          \"name\": \"total sulfur dioxide\",\n",
    "          \"shape\": [1],\n",
    "          \"datatype\": \"FP32\",\n",
    "          \"data\": [34],\n",
    "        },\n",
    "        {\n",
    "          \"name\": \"density\",\n",
    "          \"shape\": [1],\n",
    "          \"datatype\": \"FP32\",\n",
    "          \"data\": [0.9978],\n",
    "        },\n",
    "        {\n",
    "          \"name\": \"pH\",\n",
    "          \"shape\": [1],\n",
    "          \"datatype\": \"FP32\",\n",
    "          \"data\": [3.51],\n",
    "        },\n",
    "        {\n",
    "          \"name\": \"sulphates\",\n",
    "          \"shape\": [1],\n",
    "          \"datatype\": \"FP32\",\n",
    "          \"data\": [0.56],\n",
    "        },\n",
    "        {\n",
    "          \"name\": \"alcohol\",\n",
    "          \"shape\": [1],\n",
    "          \"datatype\": \"FP32\",\n",
    "          \"data\": [9.4],\n",
    "        },\n",
    "    ]\n",
    "}\n",
    "\n",
    "endpoint = \"http://mlflow-model-opt-model-api.apps.cluster-tdb7n.tdb7n.sandbox2943.opentlc.com/v2/models/wine-classifier/infer\"\n",
    "response = requests.post(endpoint, json=inference_request)\n",
    "\n",
    "response.json()"
   ]
  },
  {
   "cell_type": "code",
   "execution_count": 28,
   "id": "1b129d2a-1fe2-487f-a163-0bc26f282f64",
   "metadata": {},
   "outputs": [
    {
     "data": {
      "text/plain": [
       "{'predictions': [5.576883967129615]}"
      ]
     },
     "execution_count": 28,
     "metadata": {},
     "output_type": "execute_result"
    }
   ],
   "source": [
    "import requests\n",
    "\n",
    "inference_request = {\n",
    "    \"dataframe_split\": {\n",
    "        \"columns\": [\n",
    "            \"fixed acidity\",\n",
    "            \"volatile acidity\",\n",
    "            \"citric acid\",\n",
    "            \"residual sugar\",\n",
    "            \"chlorides\",\n",
    "            \"free sulfur dioxide\",\n",
    "            \"total sulfur dioxide\",\n",
    "            \"density\",\n",
    "            \"pH\",\n",
    "            \"sulphates\",\n",
    "            \"alcohol\",\n",
    "        ],\n",
    "        \"data\": [[7.4,0.7,0,1.9,0.076,11,34,0.9978,3.51,0.56,9.4]]\n",
    "    }\n",
    "}\n",
    "\n",
    "endpoint = \"http://mlflow-model-opt-model-api.apps.cluster-tdb7n.tdb7n.sandbox2943.opentlc.com/invocations\"\n",
    "response = requests.post(endpoint, json=inference_request)\n",
    "\n",
    "response.json()"
   ]
  },
  {
   "cell_type": "code",
   "execution_count": null,
   "id": "e423406f-3b9e-4df4-a594-0f03037460ed",
   "metadata": {},
   "outputs": [],
   "source": []
  }
 ],
 "metadata": {
  "kernelspec": {
   "display_name": "Python 3 (ipykernel)",
   "language": "python",
   "name": "python3"
  },
  "language_info": {
   "codemirror_mode": {
    "name": "ipython",
    "version": 3
   },
   "file_extension": ".py",
   "mimetype": "text/x-python",
   "name": "python",
   "nbconvert_exporter": "python",
   "pygments_lexer": "ipython3",
   "version": "3.10.6"
  }
 },
 "nbformat": 4,
 "nbformat_minor": 5
}
